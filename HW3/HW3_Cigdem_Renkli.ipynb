{
 "cells": [
  {
   "cell_type": "markdown",
   "id": "9e5b3821",
   "metadata": {},
   "source": [
    "## IE582 HW3\n",
    "#### Çiğdem Renkli "
   ]
  },
  {
   "cell_type": "code",
   "execution_count": 1,
   "id": "f66a53dd",
   "metadata": {},
   "outputs": [],
   "source": [
    "import pandas as pd\n",
    "import numpy as np\n",
    "import time\n",
    "from sklearn.model_selection import GridSearchCV\n",
    "from sklearn.neighbors import KNeighborsClassifier\n",
    "from sklearn.metrics import confusion_matrix, accuracy_score,log_loss\n",
    "import matplotlib.pyplot as plt\n",
    "import seaborn as sns\n",
    "from sklearn.linear_model import LogisticRegression, LogisticRegressionCV\n",
    "from sklearn.metrics import pairwise_distances"
   ]
  },
  {
   "cell_type": "markdown",
   "id": "292cf8e9",
   "metadata": {},
   "source": [
    "### Task 1 – On the use of distance information for UwaveGesture Recognition Task"
   ]
  },
  {
   "cell_type": "markdown",
   "id": "e854df18",
   "metadata": {},
   "source": [
    "* Read X data - train & test\n",
    "* Check the shape of data and distribution of classes"
   ]
  },
  {
   "cell_type": "code",
   "execution_count": 2,
   "id": "1506f70f",
   "metadata": {},
   "outputs": [
    {
     "name": "stdout",
     "output_type": "stream",
     "text": [
      "Data shape:  (896, 316)\n"
     ]
    },
    {
     "data": {
      "text/html": [
       "<div>\n",
       "<style scoped>\n",
       "    .dataframe tbody tr th:only-of-type {\n",
       "        vertical-align: middle;\n",
       "    }\n",
       "\n",
       "    .dataframe tbody tr th {\n",
       "        vertical-align: top;\n",
       "    }\n",
       "\n",
       "    .dataframe thead th {\n",
       "        text-align: right;\n",
       "    }\n",
       "</style>\n",
       "<table border=\"1\" class=\"dataframe\">\n",
       "  <thead>\n",
       "    <tr style=\"text-align: right;\">\n",
       "      <th></th>\n",
       "      <th>class</th>\n",
       "      <th>x1</th>\n",
       "      <th>x2</th>\n",
       "      <th>x3</th>\n",
       "      <th>x4</th>\n",
       "      <th>x5</th>\n",
       "      <th>x6</th>\n",
       "      <th>x7</th>\n",
       "      <th>x8</th>\n",
       "      <th>x9</th>\n",
       "      <th>...</th>\n",
       "      <th>x306</th>\n",
       "      <th>x307</th>\n",
       "      <th>x308</th>\n",
       "      <th>x309</th>\n",
       "      <th>x310</th>\n",
       "      <th>x311</th>\n",
       "      <th>x312</th>\n",
       "      <th>x313</th>\n",
       "      <th>x314</th>\n",
       "      <th>x315</th>\n",
       "    </tr>\n",
       "  </thead>\n",
       "  <tbody>\n",
       "    <tr>\n",
       "      <th>0</th>\n",
       "      <td>6</td>\n",
       "      <td>-0.30400</td>\n",
       "      <td>-0.30400</td>\n",
       "      <td>-0.30400</td>\n",
       "      <td>-0.30400</td>\n",
       "      <td>-0.30400</td>\n",
       "      <td>-0.30400</td>\n",
       "      <td>-0.30400</td>\n",
       "      <td>-0.30400</td>\n",
       "      <td>-0.30400</td>\n",
       "      <td>...</td>\n",
       "      <td>-0.796</td>\n",
       "      <td>-0.742</td>\n",
       "      <td>-0.695</td>\n",
       "      <td>-0.648</td>\n",
       "      <td>-0.648</td>\n",
       "      <td>-0.6480</td>\n",
       "      <td>-0.6480</td>\n",
       "      <td>-0.6480</td>\n",
       "      <td>-0.6480</td>\n",
       "      <td>-0.6480</td>\n",
       "    </tr>\n",
       "    <tr>\n",
       "      <th>1</th>\n",
       "      <td>5</td>\n",
       "      <td>1.63000</td>\n",
       "      <td>1.63000</td>\n",
       "      <td>1.63000</td>\n",
       "      <td>1.63000</td>\n",
       "      <td>1.63000</td>\n",
       "      <td>1.63000</td>\n",
       "      <td>1.63000</td>\n",
       "      <td>1.63000</td>\n",
       "      <td>1.63000</td>\n",
       "      <td>...</td>\n",
       "      <td>-0.238</td>\n",
       "      <td>-0.238</td>\n",
       "      <td>-0.238</td>\n",
       "      <td>-0.238</td>\n",
       "      <td>-0.238</td>\n",
       "      <td>-0.2380</td>\n",
       "      <td>-0.2380</td>\n",
       "      <td>-0.2380</td>\n",
       "      <td>-0.2380</td>\n",
       "      <td>-0.2380</td>\n",
       "    </tr>\n",
       "    <tr>\n",
       "      <th>2</th>\n",
       "      <td>5</td>\n",
       "      <td>0.66100</td>\n",
       "      <td>0.66100</td>\n",
       "      <td>0.66100</td>\n",
       "      <td>0.66100</td>\n",
       "      <td>0.66100</td>\n",
       "      <td>0.66100</td>\n",
       "      <td>0.66100</td>\n",
       "      <td>0.66100</td>\n",
       "      <td>0.66100</td>\n",
       "      <td>...</td>\n",
       "      <td>-0.282</td>\n",
       "      <td>-0.237</td>\n",
       "      <td>-0.192</td>\n",
       "      <td>-0.147</td>\n",
       "      <td>-0.102</td>\n",
       "      <td>-0.0612</td>\n",
       "      <td>-0.0566</td>\n",
       "      <td>-0.0555</td>\n",
       "      <td>-0.0555</td>\n",
       "      <td>-0.0555</td>\n",
       "    </tr>\n",
       "    <tr>\n",
       "      <th>3</th>\n",
       "      <td>3</td>\n",
       "      <td>0.00518</td>\n",
       "      <td>0.00518</td>\n",
       "      <td>0.00518</td>\n",
       "      <td>0.00518</td>\n",
       "      <td>0.00518</td>\n",
       "      <td>0.00518</td>\n",
       "      <td>0.00518</td>\n",
       "      <td>0.00518</td>\n",
       "      <td>0.00518</td>\n",
       "      <td>...</td>\n",
       "      <td>1.210</td>\n",
       "      <td>1.150</td>\n",
       "      <td>1.090</td>\n",
       "      <td>1.060</td>\n",
       "      <td>1.050</td>\n",
       "      <td>1.0400</td>\n",
       "      <td>1.0200</td>\n",
       "      <td>0.9100</td>\n",
       "      <td>0.7910</td>\n",
       "      <td>0.6720</td>\n",
       "    </tr>\n",
       "    <tr>\n",
       "      <th>4</th>\n",
       "      <td>4</td>\n",
       "      <td>1.29000</td>\n",
       "      <td>1.29000</td>\n",
       "      <td>1.29000</td>\n",
       "      <td>1.29000</td>\n",
       "      <td>1.29000</td>\n",
       "      <td>1.29000</td>\n",
       "      <td>1.29000</td>\n",
       "      <td>1.29000</td>\n",
       "      <td>1.29000</td>\n",
       "      <td>...</td>\n",
       "      <td>-1.440</td>\n",
       "      <td>-1.440</td>\n",
       "      <td>-1.440</td>\n",
       "      <td>-1.440</td>\n",
       "      <td>-1.440</td>\n",
       "      <td>-1.4400</td>\n",
       "      <td>-1.4500</td>\n",
       "      <td>-1.4700</td>\n",
       "      <td>-1.4800</td>\n",
       "      <td>-1.5000</td>\n",
       "    </tr>\n",
       "  </tbody>\n",
       "</table>\n",
       "<p>5 rows × 316 columns</p>\n",
       "</div>"
      ],
      "text/plain": [
       "   class       x1       x2       x3       x4       x5       x6       x7  \\\n",
       "0      6 -0.30400 -0.30400 -0.30400 -0.30400 -0.30400 -0.30400 -0.30400   \n",
       "1      5  1.63000  1.63000  1.63000  1.63000  1.63000  1.63000  1.63000   \n",
       "2      5  0.66100  0.66100  0.66100  0.66100  0.66100  0.66100  0.66100   \n",
       "3      3  0.00518  0.00518  0.00518  0.00518  0.00518  0.00518  0.00518   \n",
       "4      4  1.29000  1.29000  1.29000  1.29000  1.29000  1.29000  1.29000   \n",
       "\n",
       "        x8       x9  ...   x306   x307   x308   x309   x310    x311    x312  \\\n",
       "0 -0.30400 -0.30400  ... -0.796 -0.742 -0.695 -0.648 -0.648 -0.6480 -0.6480   \n",
       "1  1.63000  1.63000  ... -0.238 -0.238 -0.238 -0.238 -0.238 -0.2380 -0.2380   \n",
       "2  0.66100  0.66100  ... -0.282 -0.237 -0.192 -0.147 -0.102 -0.0612 -0.0566   \n",
       "3  0.00518  0.00518  ...  1.210  1.150  1.090  1.060  1.050  1.0400  1.0200   \n",
       "4  1.29000  1.29000  ... -1.440 -1.440 -1.440 -1.440 -1.440 -1.4400 -1.4500   \n",
       "\n",
       "     x313    x314    x315  \n",
       "0 -0.6480 -0.6480 -0.6480  \n",
       "1 -0.2380 -0.2380 -0.2380  \n",
       "2 -0.0555 -0.0555 -0.0555  \n",
       "3  0.9100  0.7910  0.6720  \n",
       "4 -1.4700 -1.4800 -1.5000  \n",
       "\n",
       "[5 rows x 316 columns]"
      ]
     },
     "execution_count": 2,
     "metadata": {},
     "output_type": "execute_result"
    }
   ],
   "source": [
    "X_train = pd.read_csv('uWaveGestureLibrary_X_TRAIN.csv', sep=';', header=None)\n",
    "print('Data shape: ',X_train.shape)\n",
    "X_train.columns = ['class']+['x'+str(x) for x in range(1,X_train.shape[1])]\n",
    "X_train['class']=X_train['class'].astype(int)\n",
    "X_train.head()"
   ]
  },
  {
   "cell_type": "code",
   "execution_count": 3,
   "id": "b13be5f5",
   "metadata": {},
   "outputs": [
    {
     "name": "stdout",
     "output_type": "stream",
     "text": [
      "Number of null observations:  0\n",
      "Class counts: \n",
      "1    122\n",
      "2    108\n",
      "3    106\n",
      "4    110\n",
      "5    127\n",
      "6    111\n",
      "7    112\n",
      "8    100\n",
      "Name: class, dtype: int64\n",
      "Class percents: \n",
      "1    13.616071\n",
      "2    12.053571\n",
      "3    11.830357\n",
      "4    12.276786\n",
      "5    14.174107\n",
      "6    12.388393\n",
      "7    12.500000\n",
      "8    11.160714\n",
      "Name: class, dtype: float64\n"
     ]
    }
   ],
   "source": [
    "print('Number of null observations: ',X_train.isnull().any().sum())\n",
    "print('Class counts: ')\n",
    "print(X_train['class'].value_counts().sort_index())\n",
    "print('Class percents: ')\n",
    "print(X_train['class'].value_counts().sort_index()*100/X_train.shape[0])"
   ]
  },
  {
   "cell_type": "code",
   "execution_count": 4,
   "id": "3f7226c3",
   "metadata": {},
   "outputs": [
    {
     "name": "stdout",
     "output_type": "stream",
     "text": [
      "Data shape:  (3582, 316)\n"
     ]
    },
    {
     "data": {
      "text/html": [
       "<div>\n",
       "<style scoped>\n",
       "    .dataframe tbody tr th:only-of-type {\n",
       "        vertical-align: middle;\n",
       "    }\n",
       "\n",
       "    .dataframe tbody tr th {\n",
       "        vertical-align: top;\n",
       "    }\n",
       "\n",
       "    .dataframe thead th {\n",
       "        text-align: right;\n",
       "    }\n",
       "</style>\n",
       "<table border=\"1\" class=\"dataframe\">\n",
       "  <thead>\n",
       "    <tr style=\"text-align: right;\">\n",
       "      <th></th>\n",
       "      <th>class</th>\n",
       "      <th>x1</th>\n",
       "      <th>x2</th>\n",
       "      <th>x3</th>\n",
       "      <th>x4</th>\n",
       "      <th>x5</th>\n",
       "      <th>x6</th>\n",
       "      <th>x7</th>\n",
       "      <th>x8</th>\n",
       "      <th>x9</th>\n",
       "      <th>...</th>\n",
       "      <th>x306</th>\n",
       "      <th>x307</th>\n",
       "      <th>x308</th>\n",
       "      <th>x309</th>\n",
       "      <th>x310</th>\n",
       "      <th>x311</th>\n",
       "      <th>x312</th>\n",
       "      <th>x313</th>\n",
       "      <th>x314</th>\n",
       "      <th>x315</th>\n",
       "    </tr>\n",
       "  </thead>\n",
       "  <tbody>\n",
       "    <tr>\n",
       "      <th>0</th>\n",
       "      <td>5</td>\n",
       "      <td>1.5600</td>\n",
       "      <td>1.5600</td>\n",
       "      <td>1.5600</td>\n",
       "      <td>1.5600</td>\n",
       "      <td>1.5600</td>\n",
       "      <td>1.5600</td>\n",
       "      <td>1.5600</td>\n",
       "      <td>1.5600</td>\n",
       "      <td>1.5600</td>\n",
       "      <td>...</td>\n",
       "      <td>-0.955</td>\n",
       "      <td>-0.955</td>\n",
       "      <td>-0.955</td>\n",
       "      <td>-0.955</td>\n",
       "      <td>-0.955</td>\n",
       "      <td>-0.955</td>\n",
       "      <td>-0.955</td>\n",
       "      <td>-0.955</td>\n",
       "      <td>-0.955</td>\n",
       "      <td>-0.955</td>\n",
       "    </tr>\n",
       "    <tr>\n",
       "      <th>1</th>\n",
       "      <td>1</td>\n",
       "      <td>-0.0751</td>\n",
       "      <td>-0.0751</td>\n",
       "      <td>-0.0751</td>\n",
       "      <td>-0.0751</td>\n",
       "      <td>-0.0751</td>\n",
       "      <td>-0.0751</td>\n",
       "      <td>-0.0751</td>\n",
       "      <td>-0.0751</td>\n",
       "      <td>-0.0751</td>\n",
       "      <td>...</td>\n",
       "      <td>-0.479</td>\n",
       "      <td>-0.434</td>\n",
       "      <td>-0.390</td>\n",
       "      <td>-0.345</td>\n",
       "      <td>-0.328</td>\n",
       "      <td>-0.320</td>\n",
       "      <td>-0.320</td>\n",
       "      <td>-0.320</td>\n",
       "      <td>-0.320</td>\n",
       "      <td>-0.320</td>\n",
       "    </tr>\n",
       "    <tr>\n",
       "      <th>2</th>\n",
       "      <td>4</td>\n",
       "      <td>1.5100</td>\n",
       "      <td>1.5300</td>\n",
       "      <td>1.5400</td>\n",
       "      <td>1.5600</td>\n",
       "      <td>1.5700</td>\n",
       "      <td>1.5800</td>\n",
       "      <td>1.5800</td>\n",
       "      <td>1.5800</td>\n",
       "      <td>1.5800</td>\n",
       "      <td>...</td>\n",
       "      <td>-0.578</td>\n",
       "      <td>-0.575</td>\n",
       "      <td>-0.569</td>\n",
       "      <td>-0.561</td>\n",
       "      <td>-0.553</td>\n",
       "      <td>-0.546</td>\n",
       "      <td>-0.544</td>\n",
       "      <td>-0.544</td>\n",
       "      <td>-0.544</td>\n",
       "      <td>-0.544</td>\n",
       "    </tr>\n",
       "    <tr>\n",
       "      <th>3</th>\n",
       "      <td>4</td>\n",
       "      <td>1.3000</td>\n",
       "      <td>1.3000</td>\n",
       "      <td>1.3000</td>\n",
       "      <td>1.3000</td>\n",
       "      <td>1.3000</td>\n",
       "      <td>1.3000</td>\n",
       "      <td>1.3000</td>\n",
       "      <td>1.3000</td>\n",
       "      <td>1.3000</td>\n",
       "      <td>...</td>\n",
       "      <td>-1.290</td>\n",
       "      <td>-1.300</td>\n",
       "      <td>-1.320</td>\n",
       "      <td>-1.330</td>\n",
       "      <td>-1.340</td>\n",
       "      <td>-1.360</td>\n",
       "      <td>-1.370</td>\n",
       "      <td>-1.380</td>\n",
       "      <td>-1.400</td>\n",
       "      <td>-1.410</td>\n",
       "    </tr>\n",
       "    <tr>\n",
       "      <th>4</th>\n",
       "      <td>5</td>\n",
       "      <td>1.3000</td>\n",
       "      <td>1.3000</td>\n",
       "      <td>1.3000</td>\n",
       "      <td>1.3000</td>\n",
       "      <td>1.3000</td>\n",
       "      <td>1.3000</td>\n",
       "      <td>1.3000</td>\n",
       "      <td>1.3000</td>\n",
       "      <td>1.3000</td>\n",
       "      <td>...</td>\n",
       "      <td>-0.517</td>\n",
       "      <td>-0.499</td>\n",
       "      <td>-0.481</td>\n",
       "      <td>-0.463</td>\n",
       "      <td>-0.444</td>\n",
       "      <td>-0.426</td>\n",
       "      <td>-0.408</td>\n",
       "      <td>-0.390</td>\n",
       "      <td>-0.372</td>\n",
       "      <td>-0.354</td>\n",
       "    </tr>\n",
       "  </tbody>\n",
       "</table>\n",
       "<p>5 rows × 316 columns</p>\n",
       "</div>"
      ],
      "text/plain": [
       "   class      x1      x2      x3      x4      x5      x6      x7      x8  \\\n",
       "0      5  1.5600  1.5600  1.5600  1.5600  1.5600  1.5600  1.5600  1.5600   \n",
       "1      1 -0.0751 -0.0751 -0.0751 -0.0751 -0.0751 -0.0751 -0.0751 -0.0751   \n",
       "2      4  1.5100  1.5300  1.5400  1.5600  1.5700  1.5800  1.5800  1.5800   \n",
       "3      4  1.3000  1.3000  1.3000  1.3000  1.3000  1.3000  1.3000  1.3000   \n",
       "4      5  1.3000  1.3000  1.3000  1.3000  1.3000  1.3000  1.3000  1.3000   \n",
       "\n",
       "       x9  ...   x306   x307   x308   x309   x310   x311   x312   x313   x314  \\\n",
       "0  1.5600  ... -0.955 -0.955 -0.955 -0.955 -0.955 -0.955 -0.955 -0.955 -0.955   \n",
       "1 -0.0751  ... -0.479 -0.434 -0.390 -0.345 -0.328 -0.320 -0.320 -0.320 -0.320   \n",
       "2  1.5800  ... -0.578 -0.575 -0.569 -0.561 -0.553 -0.546 -0.544 -0.544 -0.544   \n",
       "3  1.3000  ... -1.290 -1.300 -1.320 -1.330 -1.340 -1.360 -1.370 -1.380 -1.400   \n",
       "4  1.3000  ... -0.517 -0.499 -0.481 -0.463 -0.444 -0.426 -0.408 -0.390 -0.372   \n",
       "\n",
       "    x315  \n",
       "0 -0.955  \n",
       "1 -0.320  \n",
       "2 -0.544  \n",
       "3 -1.410  \n",
       "4 -0.354  \n",
       "\n",
       "[5 rows x 316 columns]"
      ]
     },
     "execution_count": 4,
     "metadata": {},
     "output_type": "execute_result"
    }
   ],
   "source": [
    "X_test = pd.read_csv('uWaveGestureLibrary_X_TEST.csv', sep=';', header=None)\n",
    "print('Data shape: ',X_test.shape)\n",
    "X_test.columns = ['class']+['x'+str(x) for x in range(1,X_test.shape[1])]\n",
    "X_test['class']=X_test['class'].astype(int)\n",
    "X_test.head()"
   ]
  },
  {
   "cell_type": "code",
   "execution_count": 5,
   "id": "41f738de",
   "metadata": {},
   "outputs": [
    {
     "name": "stdout",
     "output_type": "stream",
     "text": [
      "Number of null observations:  0\n",
      "Class counts: \n",
      "1    437\n",
      "2    452\n",
      "3    454\n",
      "4    450\n",
      "5    433\n",
      "6    449\n",
      "7    447\n",
      "8    460\n",
      "Name: class, dtype: int64\n",
      "Class percents: \n",
      "1    12.199888\n",
      "2    12.618649\n",
      "3    12.674484\n",
      "4    12.562814\n",
      "5    12.088219\n",
      "6    12.534897\n",
      "7    12.479062\n",
      "8    12.841988\n",
      "Name: class, dtype: float64\n"
     ]
    }
   ],
   "source": [
    "print('Number of null observations: ',X_test.isnull().any().sum())\n",
    "print('Class counts: ')\n",
    "print(X_test['class'].value_counts().sort_index())\n",
    "print('Class percents: ')\n",
    "print(X_test['class'].value_counts().sort_index()*100/X_test.shape[0])"
   ]
  },
  {
   "cell_type": "markdown",
   "id": "1621efa0",
   "metadata": {},
   "source": [
    "*  Distribution of classes are very similar in train and test data"
   ]
  },
  {
   "cell_type": "markdown",
   "id": "3d5c1b6b",
   "metadata": {},
   "source": [
    "- Read Y data - train & test"
   ]
  },
  {
   "cell_type": "code",
   "execution_count": 6,
   "id": "c70a1b20",
   "metadata": {},
   "outputs": [
    {
     "name": "stdout",
     "output_type": "stream",
     "text": [
      "Data shape:  (896, 316)\n"
     ]
    },
    {
     "data": {
      "text/html": [
       "<div>\n",
       "<style scoped>\n",
       "    .dataframe tbody tr th:only-of-type {\n",
       "        vertical-align: middle;\n",
       "    }\n",
       "\n",
       "    .dataframe tbody tr th {\n",
       "        vertical-align: top;\n",
       "    }\n",
       "\n",
       "    .dataframe thead th {\n",
       "        text-align: right;\n",
       "    }\n",
       "</style>\n",
       "<table border=\"1\" class=\"dataframe\">\n",
       "  <thead>\n",
       "    <tr style=\"text-align: right;\">\n",
       "      <th></th>\n",
       "      <th>class</th>\n",
       "      <th>y1</th>\n",
       "      <th>y2</th>\n",
       "      <th>y3</th>\n",
       "      <th>y4</th>\n",
       "      <th>y5</th>\n",
       "      <th>y6</th>\n",
       "      <th>y7</th>\n",
       "      <th>y8</th>\n",
       "      <th>y9</th>\n",
       "      <th>...</th>\n",
       "      <th>y306</th>\n",
       "      <th>y307</th>\n",
       "      <th>y308</th>\n",
       "      <th>y309</th>\n",
       "      <th>y310</th>\n",
       "      <th>y311</th>\n",
       "      <th>y312</th>\n",
       "      <th>y313</th>\n",
       "      <th>y314</th>\n",
       "      <th>y315</th>\n",
       "    </tr>\n",
       "  </thead>\n",
       "  <tbody>\n",
       "    <tr>\n",
       "      <th>0</th>\n",
       "      <td>6</td>\n",
       "      <td>-2.120</td>\n",
       "      <td>-2.120</td>\n",
       "      <td>-2.120</td>\n",
       "      <td>-2.120</td>\n",
       "      <td>-2.120</td>\n",
       "      <td>-2.120</td>\n",
       "      <td>-2.120</td>\n",
       "      <td>-2.120</td>\n",
       "      <td>-2.120</td>\n",
       "      <td>...</td>\n",
       "      <td>0.0841</td>\n",
       "      <td>0.0841</td>\n",
       "      <td>0.0841</td>\n",
       "      <td>0.0841</td>\n",
       "      <td>0.0841</td>\n",
       "      <td>0.0841</td>\n",
       "      <td>0.0841</td>\n",
       "      <td>0.0841</td>\n",
       "      <td>0.0841</td>\n",
       "      <td>0.0841</td>\n",
       "    </tr>\n",
       "    <tr>\n",
       "      <th>1</th>\n",
       "      <td>5</td>\n",
       "      <td>0.667</td>\n",
       "      <td>0.667</td>\n",
       "      <td>0.667</td>\n",
       "      <td>0.667</td>\n",
       "      <td>0.667</td>\n",
       "      <td>0.667</td>\n",
       "      <td>0.667</td>\n",
       "      <td>0.667</td>\n",
       "      <td>0.667</td>\n",
       "      <td>...</td>\n",
       "      <td>-1.5200</td>\n",
       "      <td>-1.5500</td>\n",
       "      <td>-1.5900</td>\n",
       "      <td>-1.6300</td>\n",
       "      <td>-1.6600</td>\n",
       "      <td>-1.6600</td>\n",
       "      <td>-1.6600</td>\n",
       "      <td>-1.6600</td>\n",
       "      <td>-1.6600</td>\n",
       "      <td>-1.6600</td>\n",
       "    </tr>\n",
       "    <tr>\n",
       "      <th>2</th>\n",
       "      <td>5</td>\n",
       "      <td>-0.190</td>\n",
       "      <td>-0.190</td>\n",
       "      <td>-0.190</td>\n",
       "      <td>-0.190</td>\n",
       "      <td>-0.190</td>\n",
       "      <td>-0.190</td>\n",
       "      <td>-0.190</td>\n",
       "      <td>-0.190</td>\n",
       "      <td>-0.190</td>\n",
       "      <td>...</td>\n",
       "      <td>-1.4900</td>\n",
       "      <td>-1.4900</td>\n",
       "      <td>-1.4900</td>\n",
       "      <td>-1.4900</td>\n",
       "      <td>-1.4900</td>\n",
       "      <td>-1.4900</td>\n",
       "      <td>-1.4900</td>\n",
       "      <td>-1.4900</td>\n",
       "      <td>-1.4900</td>\n",
       "      <td>-1.4900</td>\n",
       "    </tr>\n",
       "    <tr>\n",
       "      <th>3</th>\n",
       "      <td>3</td>\n",
       "      <td>0.374</td>\n",
       "      <td>0.374</td>\n",
       "      <td>0.374</td>\n",
       "      <td>0.374</td>\n",
       "      <td>0.374</td>\n",
       "      <td>0.374</td>\n",
       "      <td>0.374</td>\n",
       "      <td>0.374</td>\n",
       "      <td>0.374</td>\n",
       "      <td>...</td>\n",
       "      <td>-1.5300</td>\n",
       "      <td>-1.6400</td>\n",
       "      <td>-1.7500</td>\n",
       "      <td>-1.8400</td>\n",
       "      <td>-1.9000</td>\n",
       "      <td>-1.9300</td>\n",
       "      <td>-1.9200</td>\n",
       "      <td>-1.6600</td>\n",
       "      <td>-1.3700</td>\n",
       "      <td>-1.0900</td>\n",
       "    </tr>\n",
       "    <tr>\n",
       "      <th>4</th>\n",
       "      <td>4</td>\n",
       "      <td>-0.397</td>\n",
       "      <td>-0.397</td>\n",
       "      <td>-0.397</td>\n",
       "      <td>-0.397</td>\n",
       "      <td>-0.397</td>\n",
       "      <td>-0.397</td>\n",
       "      <td>-0.397</td>\n",
       "      <td>-0.397</td>\n",
       "      <td>-0.397</td>\n",
       "      <td>...</td>\n",
       "      <td>-2.1800</td>\n",
       "      <td>-2.2200</td>\n",
       "      <td>-2.2400</td>\n",
       "      <td>-2.2400</td>\n",
       "      <td>-2.2400</td>\n",
       "      <td>-2.2300</td>\n",
       "      <td>-2.1900</td>\n",
       "      <td>-2.1300</td>\n",
       "      <td>-2.0700</td>\n",
       "      <td>-2.0100</td>\n",
       "    </tr>\n",
       "  </tbody>\n",
       "</table>\n",
       "<p>5 rows × 316 columns</p>\n",
       "</div>"
      ],
      "text/plain": [
       "   class     y1     y2     y3     y4     y5     y6     y7     y8     y9  ...  \\\n",
       "0      6 -2.120 -2.120 -2.120 -2.120 -2.120 -2.120 -2.120 -2.120 -2.120  ...   \n",
       "1      5  0.667  0.667  0.667  0.667  0.667  0.667  0.667  0.667  0.667  ...   \n",
       "2      5 -0.190 -0.190 -0.190 -0.190 -0.190 -0.190 -0.190 -0.190 -0.190  ...   \n",
       "3      3  0.374  0.374  0.374  0.374  0.374  0.374  0.374  0.374  0.374  ...   \n",
       "4      4 -0.397 -0.397 -0.397 -0.397 -0.397 -0.397 -0.397 -0.397 -0.397  ...   \n",
       "\n",
       "     y306    y307    y308    y309    y310    y311    y312    y313    y314  \\\n",
       "0  0.0841  0.0841  0.0841  0.0841  0.0841  0.0841  0.0841  0.0841  0.0841   \n",
       "1 -1.5200 -1.5500 -1.5900 -1.6300 -1.6600 -1.6600 -1.6600 -1.6600 -1.6600   \n",
       "2 -1.4900 -1.4900 -1.4900 -1.4900 -1.4900 -1.4900 -1.4900 -1.4900 -1.4900   \n",
       "3 -1.5300 -1.6400 -1.7500 -1.8400 -1.9000 -1.9300 -1.9200 -1.6600 -1.3700   \n",
       "4 -2.1800 -2.2200 -2.2400 -2.2400 -2.2400 -2.2300 -2.1900 -2.1300 -2.0700   \n",
       "\n",
       "     y315  \n",
       "0  0.0841  \n",
       "1 -1.6600  \n",
       "2 -1.4900  \n",
       "3 -1.0900  \n",
       "4 -2.0100  \n",
       "\n",
       "[5 rows x 316 columns]"
      ]
     },
     "execution_count": 6,
     "metadata": {},
     "output_type": "execute_result"
    }
   ],
   "source": [
    "Y_train = pd.read_csv('uWaveGestureLibrary_Y_TRAIN.csv', sep=';', header=None)\n",
    "print('Data shape: ',Y_train.shape)\n",
    "Y_train.columns = ['class']+['y'+str(x) for x in range(1,Y_train.shape[1])]\n",
    "Y_train['class']=Y_train['class'].astype(int)\n",
    "Y_train.head()"
   ]
  },
  {
   "cell_type": "code",
   "execution_count": 7,
   "id": "ec067f6b",
   "metadata": {},
   "outputs": [
    {
     "name": "stdout",
     "output_type": "stream",
     "text": [
      "Data shape:  (3582, 316)\n"
     ]
    },
    {
     "data": {
      "text/html": [
       "<div>\n",
       "<style scoped>\n",
       "    .dataframe tbody tr th:only-of-type {\n",
       "        vertical-align: middle;\n",
       "    }\n",
       "\n",
       "    .dataframe tbody tr th {\n",
       "        vertical-align: top;\n",
       "    }\n",
       "\n",
       "    .dataframe thead th {\n",
       "        text-align: right;\n",
       "    }\n",
       "</style>\n",
       "<table border=\"1\" class=\"dataframe\">\n",
       "  <thead>\n",
       "    <tr style=\"text-align: right;\">\n",
       "      <th></th>\n",
       "      <th>class</th>\n",
       "      <th>y1</th>\n",
       "      <th>y2</th>\n",
       "      <th>y3</th>\n",
       "      <th>y4</th>\n",
       "      <th>y5</th>\n",
       "      <th>y6</th>\n",
       "      <th>y7</th>\n",
       "      <th>y8</th>\n",
       "      <th>y9</th>\n",
       "      <th>...</th>\n",
       "      <th>y306</th>\n",
       "      <th>y307</th>\n",
       "      <th>y308</th>\n",
       "      <th>y309</th>\n",
       "      <th>y310</th>\n",
       "      <th>y311</th>\n",
       "      <th>y312</th>\n",
       "      <th>y313</th>\n",
       "      <th>y314</th>\n",
       "      <th>y315</th>\n",
       "    </tr>\n",
       "  </thead>\n",
       "  <tbody>\n",
       "    <tr>\n",
       "      <th>0</th>\n",
       "      <td>5</td>\n",
       "      <td>1.170</td>\n",
       "      <td>1.170</td>\n",
       "      <td>1.170</td>\n",
       "      <td>1.170</td>\n",
       "      <td>1.170</td>\n",
       "      <td>1.170</td>\n",
       "      <td>1.170</td>\n",
       "      <td>1.170</td>\n",
       "      <td>1.170</td>\n",
       "      <td>...</td>\n",
       "      <td>-1.220</td>\n",
       "      <td>-1.220</td>\n",
       "      <td>-1.220</td>\n",
       "      <td>-1.230</td>\n",
       "      <td>-1.230</td>\n",
       "      <td>-1.240</td>\n",
       "      <td>-1.240</td>\n",
       "      <td>-1.250</td>\n",
       "      <td>-1.260</td>\n",
       "      <td>-1.260</td>\n",
       "    </tr>\n",
       "    <tr>\n",
       "      <th>1</th>\n",
       "      <td>1</td>\n",
       "      <td>-1.110</td>\n",
       "      <td>-1.110</td>\n",
       "      <td>-1.110</td>\n",
       "      <td>-1.110</td>\n",
       "      <td>-1.110</td>\n",
       "      <td>-1.110</td>\n",
       "      <td>-1.110</td>\n",
       "      <td>-1.110</td>\n",
       "      <td>-1.110</td>\n",
       "      <td>...</td>\n",
       "      <td>1.340</td>\n",
       "      <td>1.340</td>\n",
       "      <td>1.340</td>\n",
       "      <td>1.340</td>\n",
       "      <td>1.340</td>\n",
       "      <td>1.340</td>\n",
       "      <td>1.340</td>\n",
       "      <td>1.380</td>\n",
       "      <td>1.430</td>\n",
       "      <td>1.490</td>\n",
       "    </tr>\n",
       "    <tr>\n",
       "      <th>2</th>\n",
       "      <td>4</td>\n",
       "      <td>-1.010</td>\n",
       "      <td>-0.969</td>\n",
       "      <td>-0.931</td>\n",
       "      <td>-0.893</td>\n",
       "      <td>-0.864</td>\n",
       "      <td>-0.858</td>\n",
       "      <td>-0.854</td>\n",
       "      <td>-0.854</td>\n",
       "      <td>-0.854</td>\n",
       "      <td>...</td>\n",
       "      <td>-0.445</td>\n",
       "      <td>-0.445</td>\n",
       "      <td>-0.445</td>\n",
       "      <td>-0.445</td>\n",
       "      <td>-0.447</td>\n",
       "      <td>-0.449</td>\n",
       "      <td>-0.458</td>\n",
       "      <td>-0.471</td>\n",
       "      <td>-0.484</td>\n",
       "      <td>-0.496</td>\n",
       "    </tr>\n",
       "    <tr>\n",
       "      <th>3</th>\n",
       "      <td>4</td>\n",
       "      <td>1.170</td>\n",
       "      <td>1.170</td>\n",
       "      <td>1.170</td>\n",
       "      <td>1.170</td>\n",
       "      <td>1.170</td>\n",
       "      <td>1.170</td>\n",
       "      <td>1.170</td>\n",
       "      <td>1.170</td>\n",
       "      <td>1.170</td>\n",
       "      <td>...</td>\n",
       "      <td>-1.120</td>\n",
       "      <td>-1.120</td>\n",
       "      <td>-1.120</td>\n",
       "      <td>-1.120</td>\n",
       "      <td>-1.140</td>\n",
       "      <td>-1.160</td>\n",
       "      <td>-1.190</td>\n",
       "      <td>-1.220</td>\n",
       "      <td>-1.250</td>\n",
       "      <td>-1.290</td>\n",
       "    </tr>\n",
       "    <tr>\n",
       "      <th>4</th>\n",
       "      <td>5</td>\n",
       "      <td>0.395</td>\n",
       "      <td>0.395</td>\n",
       "      <td>0.395</td>\n",
       "      <td>0.395</td>\n",
       "      <td>0.395</td>\n",
       "      <td>0.395</td>\n",
       "      <td>0.395</td>\n",
       "      <td>0.395</td>\n",
       "      <td>0.395</td>\n",
       "      <td>...</td>\n",
       "      <td>-1.630</td>\n",
       "      <td>-1.640</td>\n",
       "      <td>-1.650</td>\n",
       "      <td>-1.660</td>\n",
       "      <td>-1.660</td>\n",
       "      <td>-1.670</td>\n",
       "      <td>-1.680</td>\n",
       "      <td>-1.690</td>\n",
       "      <td>-1.700</td>\n",
       "      <td>-1.710</td>\n",
       "    </tr>\n",
       "  </tbody>\n",
       "</table>\n",
       "<p>5 rows × 316 columns</p>\n",
       "</div>"
      ],
      "text/plain": [
       "   class     y1     y2     y3     y4     y5     y6     y7     y8     y9  ...  \\\n",
       "0      5  1.170  1.170  1.170  1.170  1.170  1.170  1.170  1.170  1.170  ...   \n",
       "1      1 -1.110 -1.110 -1.110 -1.110 -1.110 -1.110 -1.110 -1.110 -1.110  ...   \n",
       "2      4 -1.010 -0.969 -0.931 -0.893 -0.864 -0.858 -0.854 -0.854 -0.854  ...   \n",
       "3      4  1.170  1.170  1.170  1.170  1.170  1.170  1.170  1.170  1.170  ...   \n",
       "4      5  0.395  0.395  0.395  0.395  0.395  0.395  0.395  0.395  0.395  ...   \n",
       "\n",
       "    y306   y307   y308   y309   y310   y311   y312   y313   y314   y315  \n",
       "0 -1.220 -1.220 -1.220 -1.230 -1.230 -1.240 -1.240 -1.250 -1.260 -1.260  \n",
       "1  1.340  1.340  1.340  1.340  1.340  1.340  1.340  1.380  1.430  1.490  \n",
       "2 -0.445 -0.445 -0.445 -0.445 -0.447 -0.449 -0.458 -0.471 -0.484 -0.496  \n",
       "3 -1.120 -1.120 -1.120 -1.120 -1.140 -1.160 -1.190 -1.220 -1.250 -1.290  \n",
       "4 -1.630 -1.640 -1.650 -1.660 -1.660 -1.670 -1.680 -1.690 -1.700 -1.710  \n",
       "\n",
       "[5 rows x 316 columns]"
      ]
     },
     "execution_count": 7,
     "metadata": {},
     "output_type": "execute_result"
    }
   ],
   "source": [
    "Y_test = pd.read_csv('uWaveGestureLibrary_Y_TEST.csv', sep=';', header=None)\n",
    "print('Data shape: ',Y_test.shape)\n",
    "Y_test.columns = ['class']+['y'+str(x) for x in range(1,Y_test.shape[1])]\n",
    "Y_test['class']=Y_test['class'].astype(int)\n",
    "Y_test.head()"
   ]
  },
  {
   "cell_type": "markdown",
   "id": "058391c3",
   "metadata": {},
   "source": [
    "* Read Z data - train & test"
   ]
  },
  {
   "cell_type": "code",
   "execution_count": 8,
   "id": "c3d042d4",
   "metadata": {},
   "outputs": [
    {
     "name": "stdout",
     "output_type": "stream",
     "text": [
      "Data shape:  (896, 316)\n"
     ]
    },
    {
     "data": {
      "text/html": [
       "<div>\n",
       "<style scoped>\n",
       "    .dataframe tbody tr th:only-of-type {\n",
       "        vertical-align: middle;\n",
       "    }\n",
       "\n",
       "    .dataframe tbody tr th {\n",
       "        vertical-align: top;\n",
       "    }\n",
       "\n",
       "    .dataframe thead th {\n",
       "        text-align: right;\n",
       "    }\n",
       "</style>\n",
       "<table border=\"1\" class=\"dataframe\">\n",
       "  <thead>\n",
       "    <tr style=\"text-align: right;\">\n",
       "      <th></th>\n",
       "      <th>class</th>\n",
       "      <th>z1</th>\n",
       "      <th>z2</th>\n",
       "      <th>z3</th>\n",
       "      <th>z4</th>\n",
       "      <th>z5</th>\n",
       "      <th>z6</th>\n",
       "      <th>z7</th>\n",
       "      <th>z8</th>\n",
       "      <th>z9</th>\n",
       "      <th>...</th>\n",
       "      <th>z306</th>\n",
       "      <th>z307</th>\n",
       "      <th>z308</th>\n",
       "      <th>z309</th>\n",
       "      <th>z310</th>\n",
       "      <th>z311</th>\n",
       "      <th>z312</th>\n",
       "      <th>z313</th>\n",
       "      <th>z314</th>\n",
       "      <th>z315</th>\n",
       "    </tr>\n",
       "  </thead>\n",
       "  <tbody>\n",
       "    <tr>\n",
       "      <th>0</th>\n",
       "      <td>6</td>\n",
       "      <td>-1.530</td>\n",
       "      <td>-1.530</td>\n",
       "      <td>-1.530</td>\n",
       "      <td>-1.530</td>\n",
       "      <td>-1.530</td>\n",
       "      <td>-1.530</td>\n",
       "      <td>-1.530</td>\n",
       "      <td>-1.530</td>\n",
       "      <td>-1.530</td>\n",
       "      <td>...</td>\n",
       "      <td>0.523</td>\n",
       "      <td>0.514</td>\n",
       "      <td>0.5030</td>\n",
       "      <td>0.4930</td>\n",
       "      <td>0.4750</td>\n",
       "      <td>0.456</td>\n",
       "      <td>0.438</td>\n",
       "      <td>0.419</td>\n",
       "      <td>0.401</td>\n",
       "      <td>0.382</td>\n",
       "    </tr>\n",
       "    <tr>\n",
       "      <th>1</th>\n",
       "      <td>5</td>\n",
       "      <td>1.790</td>\n",
       "      <td>1.790</td>\n",
       "      <td>1.790</td>\n",
       "      <td>1.790</td>\n",
       "      <td>1.790</td>\n",
       "      <td>1.790</td>\n",
       "      <td>1.790</td>\n",
       "      <td>1.790</td>\n",
       "      <td>1.790</td>\n",
       "      <td>...</td>\n",
       "      <td>-0.427</td>\n",
       "      <td>-0.427</td>\n",
       "      <td>-0.4270</td>\n",
       "      <td>-0.4270</td>\n",
       "      <td>-0.4290</td>\n",
       "      <td>-0.441</td>\n",
       "      <td>-0.453</td>\n",
       "      <td>-0.465</td>\n",
       "      <td>-0.477</td>\n",
       "      <td>-0.489</td>\n",
       "    </tr>\n",
       "    <tr>\n",
       "      <th>2</th>\n",
       "      <td>5</td>\n",
       "      <td>0.521</td>\n",
       "      <td>0.521</td>\n",
       "      <td>0.521</td>\n",
       "      <td>0.521</td>\n",
       "      <td>0.521</td>\n",
       "      <td>0.521</td>\n",
       "      <td>0.521</td>\n",
       "      <td>0.521</td>\n",
       "      <td>0.521</td>\n",
       "      <td>...</td>\n",
       "      <td>-0.863</td>\n",
       "      <td>-0.863</td>\n",
       "      <td>-0.8630</td>\n",
       "      <td>-0.8630</td>\n",
       "      <td>-0.8630</td>\n",
       "      <td>-0.863</td>\n",
       "      <td>-0.863</td>\n",
       "      <td>-0.863</td>\n",
       "      <td>-0.863</td>\n",
       "      <td>-0.863</td>\n",
       "    </tr>\n",
       "    <tr>\n",
       "      <th>3</th>\n",
       "      <td>3</td>\n",
       "      <td>0.309</td>\n",
       "      <td>0.309</td>\n",
       "      <td>0.309</td>\n",
       "      <td>0.309</td>\n",
       "      <td>0.309</td>\n",
       "      <td>0.309</td>\n",
       "      <td>0.309</td>\n",
       "      <td>0.309</td>\n",
       "      <td>0.309</td>\n",
       "      <td>...</td>\n",
       "      <td>-0.187</td>\n",
       "      <td>-0.124</td>\n",
       "      <td>-0.0559</td>\n",
       "      <td>0.0118</td>\n",
       "      <td>0.0795</td>\n",
       "      <td>0.157</td>\n",
       "      <td>0.254</td>\n",
       "      <td>0.446</td>\n",
       "      <td>0.649</td>\n",
       "      <td>0.852</td>\n",
       "    </tr>\n",
       "    <tr>\n",
       "      <th>4</th>\n",
       "      <td>4</td>\n",
       "      <td>-0.466</td>\n",
       "      <td>-0.466</td>\n",
       "      <td>-0.466</td>\n",
       "      <td>-0.466</td>\n",
       "      <td>-0.466</td>\n",
       "      <td>-0.466</td>\n",
       "      <td>-0.466</td>\n",
       "      <td>-0.466</td>\n",
       "      <td>-0.466</td>\n",
       "      <td>...</td>\n",
       "      <td>1.870</td>\n",
       "      <td>1.830</td>\n",
       "      <td>1.7600</td>\n",
       "      <td>1.6400</td>\n",
       "      <td>1.5200</td>\n",
       "      <td>1.450</td>\n",
       "      <td>1.520</td>\n",
       "      <td>1.630</td>\n",
       "      <td>1.750</td>\n",
       "      <td>1.870</td>\n",
       "    </tr>\n",
       "  </tbody>\n",
       "</table>\n",
       "<p>5 rows × 316 columns</p>\n",
       "</div>"
      ],
      "text/plain": [
       "   class     z1     z2     z3     z4     z5     z6     z7     z8     z9  ...  \\\n",
       "0      6 -1.530 -1.530 -1.530 -1.530 -1.530 -1.530 -1.530 -1.530 -1.530  ...   \n",
       "1      5  1.790  1.790  1.790  1.790  1.790  1.790  1.790  1.790  1.790  ...   \n",
       "2      5  0.521  0.521  0.521  0.521  0.521  0.521  0.521  0.521  0.521  ...   \n",
       "3      3  0.309  0.309  0.309  0.309  0.309  0.309  0.309  0.309  0.309  ...   \n",
       "4      4 -0.466 -0.466 -0.466 -0.466 -0.466 -0.466 -0.466 -0.466 -0.466  ...   \n",
       "\n",
       "    z306   z307    z308    z309    z310   z311   z312   z313   z314   z315  \n",
       "0  0.523  0.514  0.5030  0.4930  0.4750  0.456  0.438  0.419  0.401  0.382  \n",
       "1 -0.427 -0.427 -0.4270 -0.4270 -0.4290 -0.441 -0.453 -0.465 -0.477 -0.489  \n",
       "2 -0.863 -0.863 -0.8630 -0.8630 -0.8630 -0.863 -0.863 -0.863 -0.863 -0.863  \n",
       "3 -0.187 -0.124 -0.0559  0.0118  0.0795  0.157  0.254  0.446  0.649  0.852  \n",
       "4  1.870  1.830  1.7600  1.6400  1.5200  1.450  1.520  1.630  1.750  1.870  \n",
       "\n",
       "[5 rows x 316 columns]"
      ]
     },
     "execution_count": 8,
     "metadata": {},
     "output_type": "execute_result"
    }
   ],
   "source": [
    "Z_train = pd.read_csv('uWaveGestureLibrary_Z_TRAIN.csv', sep=';', header=None)\n",
    "print('Data shape: ',Z_train.shape)\n",
    "Z_train.columns = ['class']+['z'+str(x) for x in range(1,Z_train.shape[1])]\n",
    "Z_train['class']=Z_train['class'].astype(int)\n",
    "Z_train.head()"
   ]
  },
  {
   "cell_type": "code",
   "execution_count": 9,
   "id": "8259db01",
   "metadata": {},
   "outputs": [
    {
     "name": "stdout",
     "output_type": "stream",
     "text": [
      "Data shape:  (3582, 316)\n"
     ]
    },
    {
     "data": {
      "text/html": [
       "<div>\n",
       "<style scoped>\n",
       "    .dataframe tbody tr th:only-of-type {\n",
       "        vertical-align: middle;\n",
       "    }\n",
       "\n",
       "    .dataframe tbody tr th {\n",
       "        vertical-align: top;\n",
       "    }\n",
       "\n",
       "    .dataframe thead th {\n",
       "        text-align: right;\n",
       "    }\n",
       "</style>\n",
       "<table border=\"1\" class=\"dataframe\">\n",
       "  <thead>\n",
       "    <tr style=\"text-align: right;\">\n",
       "      <th></th>\n",
       "      <th>class</th>\n",
       "      <th>z1</th>\n",
       "      <th>z2</th>\n",
       "      <th>z3</th>\n",
       "      <th>z4</th>\n",
       "      <th>z5</th>\n",
       "      <th>z6</th>\n",
       "      <th>z7</th>\n",
       "      <th>z8</th>\n",
       "      <th>z9</th>\n",
       "      <th>...</th>\n",
       "      <th>z306</th>\n",
       "      <th>z307</th>\n",
       "      <th>z308</th>\n",
       "      <th>z309</th>\n",
       "      <th>z310</th>\n",
       "      <th>z311</th>\n",
       "      <th>z312</th>\n",
       "      <th>z313</th>\n",
       "      <th>z314</th>\n",
       "      <th>z315</th>\n",
       "    </tr>\n",
       "  </thead>\n",
       "  <tbody>\n",
       "    <tr>\n",
       "      <th>0</th>\n",
       "      <td>5</td>\n",
       "      <td>1.860</td>\n",
       "      <td>1.860</td>\n",
       "      <td>1.860</td>\n",
       "      <td>1.860</td>\n",
       "      <td>1.860</td>\n",
       "      <td>1.860</td>\n",
       "      <td>1.860</td>\n",
       "      <td>1.860</td>\n",
       "      <td>1.860</td>\n",
       "      <td>...</td>\n",
       "      <td>-0.348</td>\n",
       "      <td>-0.348</td>\n",
       "      <td>-0.345</td>\n",
       "      <td>-0.341</td>\n",
       "      <td>-0.333</td>\n",
       "      <td>-0.325</td>\n",
       "      <td>-0.318</td>\n",
       "      <td>-0.310</td>\n",
       "      <td>-0.302</td>\n",
       "      <td>-0.295</td>\n",
       "    </tr>\n",
       "    <tr>\n",
       "      <th>1</th>\n",
       "      <td>1</td>\n",
       "      <td>-0.352</td>\n",
       "      <td>-0.352</td>\n",
       "      <td>-0.352</td>\n",
       "      <td>-0.352</td>\n",
       "      <td>-0.352</td>\n",
       "      <td>-0.352</td>\n",
       "      <td>-0.352</td>\n",
       "      <td>-0.352</td>\n",
       "      <td>-0.352</td>\n",
       "      <td>...</td>\n",
       "      <td>0.961</td>\n",
       "      <td>0.849</td>\n",
       "      <td>0.726</td>\n",
       "      <td>0.589</td>\n",
       "      <td>0.539</td>\n",
       "      <td>0.516</td>\n",
       "      <td>0.516</td>\n",
       "      <td>0.516</td>\n",
       "      <td>0.516</td>\n",
       "      <td>0.516</td>\n",
       "    </tr>\n",
       "    <tr>\n",
       "      <th>2</th>\n",
       "      <td>4</td>\n",
       "      <td>0.650</td>\n",
       "      <td>0.650</td>\n",
       "      <td>0.650</td>\n",
       "      <td>0.650</td>\n",
       "      <td>0.650</td>\n",
       "      <td>0.650</td>\n",
       "      <td>0.650</td>\n",
       "      <td>0.650</td>\n",
       "      <td>0.650</td>\n",
       "      <td>...</td>\n",
       "      <td>-0.566</td>\n",
       "      <td>-0.476</td>\n",
       "      <td>-0.399</td>\n",
       "      <td>-0.344</td>\n",
       "      <td>-0.289</td>\n",
       "      <td>-0.234</td>\n",
       "      <td>-0.179</td>\n",
       "      <td>-0.124</td>\n",
       "      <td>-0.069</td>\n",
       "      <td>-0.014</td>\n",
       "    </tr>\n",
       "    <tr>\n",
       "      <th>3</th>\n",
       "      <td>4</td>\n",
       "      <td>-0.727</td>\n",
       "      <td>-0.727</td>\n",
       "      <td>-0.727</td>\n",
       "      <td>-0.727</td>\n",
       "      <td>-0.727</td>\n",
       "      <td>-0.727</td>\n",
       "      <td>-0.727</td>\n",
       "      <td>-0.727</td>\n",
       "      <td>-0.727</td>\n",
       "      <td>...</td>\n",
       "      <td>1.040</td>\n",
       "      <td>1.040</td>\n",
       "      <td>1.040</td>\n",
       "      <td>1.040</td>\n",
       "      <td>1.080</td>\n",
       "      <td>1.120</td>\n",
       "      <td>1.170</td>\n",
       "      <td>1.230</td>\n",
       "      <td>1.280</td>\n",
       "      <td>1.340</td>\n",
       "    </tr>\n",
       "    <tr>\n",
       "      <th>4</th>\n",
       "      <td>5</td>\n",
       "      <td>1.290</td>\n",
       "      <td>1.290</td>\n",
       "      <td>1.290</td>\n",
       "      <td>1.290</td>\n",
       "      <td>1.290</td>\n",
       "      <td>1.290</td>\n",
       "      <td>1.290</td>\n",
       "      <td>1.290</td>\n",
       "      <td>1.290</td>\n",
       "      <td>...</td>\n",
       "      <td>-0.693</td>\n",
       "      <td>-0.690</td>\n",
       "      <td>-0.686</td>\n",
       "      <td>-0.682</td>\n",
       "      <td>-0.679</td>\n",
       "      <td>-0.675</td>\n",
       "      <td>-0.671</td>\n",
       "      <td>-0.668</td>\n",
       "      <td>-0.664</td>\n",
       "      <td>-0.660</td>\n",
       "    </tr>\n",
       "  </tbody>\n",
       "</table>\n",
       "<p>5 rows × 316 columns</p>\n",
       "</div>"
      ],
      "text/plain": [
       "   class     z1     z2     z3     z4     z5     z6     z7     z8     z9  ...  \\\n",
       "0      5  1.860  1.860  1.860  1.860  1.860  1.860  1.860  1.860  1.860  ...   \n",
       "1      1 -0.352 -0.352 -0.352 -0.352 -0.352 -0.352 -0.352 -0.352 -0.352  ...   \n",
       "2      4  0.650  0.650  0.650  0.650  0.650  0.650  0.650  0.650  0.650  ...   \n",
       "3      4 -0.727 -0.727 -0.727 -0.727 -0.727 -0.727 -0.727 -0.727 -0.727  ...   \n",
       "4      5  1.290  1.290  1.290  1.290  1.290  1.290  1.290  1.290  1.290  ...   \n",
       "\n",
       "    z306   z307   z308   z309   z310   z311   z312   z313   z314   z315  \n",
       "0 -0.348 -0.348 -0.345 -0.341 -0.333 -0.325 -0.318 -0.310 -0.302 -0.295  \n",
       "1  0.961  0.849  0.726  0.589  0.539  0.516  0.516  0.516  0.516  0.516  \n",
       "2 -0.566 -0.476 -0.399 -0.344 -0.289 -0.234 -0.179 -0.124 -0.069 -0.014  \n",
       "3  1.040  1.040  1.040  1.040  1.080  1.120  1.170  1.230  1.280  1.340  \n",
       "4 -0.693 -0.690 -0.686 -0.682 -0.679 -0.675 -0.671 -0.668 -0.664 -0.660  \n",
       "\n",
       "[5 rows x 316 columns]"
      ]
     },
     "execution_count": 9,
     "metadata": {},
     "output_type": "execute_result"
    }
   ],
   "source": [
    "Z_test = pd.read_csv('uWaveGestureLibrary_Z_TEST.csv', sep=';', header=None)\n",
    "print('Data shape: ',Z_test.shape)\n",
    "Z_test.columns = ['class']+['z'+str(x) for x in range(1,Z_test.shape[1])]\n",
    "Z_test['class']=Z_test['class'].astype(int)\n",
    "Z_test.head()"
   ]
  },
  {
   "cell_type": "markdown",
   "id": "24e8e63f",
   "metadata": {},
   "source": [
    "* Concatenate X-Y-Z components for train and test"
   ]
  },
  {
   "cell_type": "code",
   "execution_count": 10,
   "id": "1935694a",
   "metadata": {},
   "outputs": [
    {
     "name": "stdout",
     "output_type": "stream",
     "text": [
      "Data shape:  (896, 946)\n"
     ]
    },
    {
     "data": {
      "text/html": [
       "<div>\n",
       "<style scoped>\n",
       "    .dataframe tbody tr th:only-of-type {\n",
       "        vertical-align: middle;\n",
       "    }\n",
       "\n",
       "    .dataframe tbody tr th {\n",
       "        vertical-align: top;\n",
       "    }\n",
       "\n",
       "    .dataframe thead th {\n",
       "        text-align: right;\n",
       "    }\n",
       "</style>\n",
       "<table border=\"1\" class=\"dataframe\">\n",
       "  <thead>\n",
       "    <tr style=\"text-align: right;\">\n",
       "      <th></th>\n",
       "      <th>class</th>\n",
       "      <th>x1</th>\n",
       "      <th>x2</th>\n",
       "      <th>x3</th>\n",
       "      <th>x4</th>\n",
       "      <th>x5</th>\n",
       "      <th>x6</th>\n",
       "      <th>x7</th>\n",
       "      <th>x8</th>\n",
       "      <th>x9</th>\n",
       "      <th>...</th>\n",
       "      <th>z306</th>\n",
       "      <th>z307</th>\n",
       "      <th>z308</th>\n",
       "      <th>z309</th>\n",
       "      <th>z310</th>\n",
       "      <th>z311</th>\n",
       "      <th>z312</th>\n",
       "      <th>z313</th>\n",
       "      <th>z314</th>\n",
       "      <th>z315</th>\n",
       "    </tr>\n",
       "  </thead>\n",
       "  <tbody>\n",
       "    <tr>\n",
       "      <th>0</th>\n",
       "      <td>6</td>\n",
       "      <td>-0.30400</td>\n",
       "      <td>-0.30400</td>\n",
       "      <td>-0.30400</td>\n",
       "      <td>-0.30400</td>\n",
       "      <td>-0.30400</td>\n",
       "      <td>-0.30400</td>\n",
       "      <td>-0.30400</td>\n",
       "      <td>-0.30400</td>\n",
       "      <td>-0.30400</td>\n",
       "      <td>...</td>\n",
       "      <td>0.523</td>\n",
       "      <td>0.514</td>\n",
       "      <td>0.5030</td>\n",
       "      <td>0.4930</td>\n",
       "      <td>0.4750</td>\n",
       "      <td>0.456</td>\n",
       "      <td>0.438</td>\n",
       "      <td>0.419</td>\n",
       "      <td>0.401</td>\n",
       "      <td>0.382</td>\n",
       "    </tr>\n",
       "    <tr>\n",
       "      <th>1</th>\n",
       "      <td>5</td>\n",
       "      <td>1.63000</td>\n",
       "      <td>1.63000</td>\n",
       "      <td>1.63000</td>\n",
       "      <td>1.63000</td>\n",
       "      <td>1.63000</td>\n",
       "      <td>1.63000</td>\n",
       "      <td>1.63000</td>\n",
       "      <td>1.63000</td>\n",
       "      <td>1.63000</td>\n",
       "      <td>...</td>\n",
       "      <td>-0.427</td>\n",
       "      <td>-0.427</td>\n",
       "      <td>-0.4270</td>\n",
       "      <td>-0.4270</td>\n",
       "      <td>-0.4290</td>\n",
       "      <td>-0.441</td>\n",
       "      <td>-0.453</td>\n",
       "      <td>-0.465</td>\n",
       "      <td>-0.477</td>\n",
       "      <td>-0.489</td>\n",
       "    </tr>\n",
       "    <tr>\n",
       "      <th>2</th>\n",
       "      <td>5</td>\n",
       "      <td>0.66100</td>\n",
       "      <td>0.66100</td>\n",
       "      <td>0.66100</td>\n",
       "      <td>0.66100</td>\n",
       "      <td>0.66100</td>\n",
       "      <td>0.66100</td>\n",
       "      <td>0.66100</td>\n",
       "      <td>0.66100</td>\n",
       "      <td>0.66100</td>\n",
       "      <td>...</td>\n",
       "      <td>-0.863</td>\n",
       "      <td>-0.863</td>\n",
       "      <td>-0.8630</td>\n",
       "      <td>-0.8630</td>\n",
       "      <td>-0.8630</td>\n",
       "      <td>-0.863</td>\n",
       "      <td>-0.863</td>\n",
       "      <td>-0.863</td>\n",
       "      <td>-0.863</td>\n",
       "      <td>-0.863</td>\n",
       "    </tr>\n",
       "    <tr>\n",
       "      <th>3</th>\n",
       "      <td>3</td>\n",
       "      <td>0.00518</td>\n",
       "      <td>0.00518</td>\n",
       "      <td>0.00518</td>\n",
       "      <td>0.00518</td>\n",
       "      <td>0.00518</td>\n",
       "      <td>0.00518</td>\n",
       "      <td>0.00518</td>\n",
       "      <td>0.00518</td>\n",
       "      <td>0.00518</td>\n",
       "      <td>...</td>\n",
       "      <td>-0.187</td>\n",
       "      <td>-0.124</td>\n",
       "      <td>-0.0559</td>\n",
       "      <td>0.0118</td>\n",
       "      <td>0.0795</td>\n",
       "      <td>0.157</td>\n",
       "      <td>0.254</td>\n",
       "      <td>0.446</td>\n",
       "      <td>0.649</td>\n",
       "      <td>0.852</td>\n",
       "    </tr>\n",
       "    <tr>\n",
       "      <th>4</th>\n",
       "      <td>4</td>\n",
       "      <td>1.29000</td>\n",
       "      <td>1.29000</td>\n",
       "      <td>1.29000</td>\n",
       "      <td>1.29000</td>\n",
       "      <td>1.29000</td>\n",
       "      <td>1.29000</td>\n",
       "      <td>1.29000</td>\n",
       "      <td>1.29000</td>\n",
       "      <td>1.29000</td>\n",
       "      <td>...</td>\n",
       "      <td>1.870</td>\n",
       "      <td>1.830</td>\n",
       "      <td>1.7600</td>\n",
       "      <td>1.6400</td>\n",
       "      <td>1.5200</td>\n",
       "      <td>1.450</td>\n",
       "      <td>1.520</td>\n",
       "      <td>1.630</td>\n",
       "      <td>1.750</td>\n",
       "      <td>1.870</td>\n",
       "    </tr>\n",
       "  </tbody>\n",
       "</table>\n",
       "<p>5 rows × 946 columns</p>\n",
       "</div>"
      ],
      "text/plain": [
       "   class       x1       x2       x3       x4       x5       x6       x7  \\\n",
       "0      6 -0.30400 -0.30400 -0.30400 -0.30400 -0.30400 -0.30400 -0.30400   \n",
       "1      5  1.63000  1.63000  1.63000  1.63000  1.63000  1.63000  1.63000   \n",
       "2      5  0.66100  0.66100  0.66100  0.66100  0.66100  0.66100  0.66100   \n",
       "3      3  0.00518  0.00518  0.00518  0.00518  0.00518  0.00518  0.00518   \n",
       "4      4  1.29000  1.29000  1.29000  1.29000  1.29000  1.29000  1.29000   \n",
       "\n",
       "        x8       x9  ...   z306   z307    z308    z309    z310   z311   z312  \\\n",
       "0 -0.30400 -0.30400  ...  0.523  0.514  0.5030  0.4930  0.4750  0.456  0.438   \n",
       "1  1.63000  1.63000  ... -0.427 -0.427 -0.4270 -0.4270 -0.4290 -0.441 -0.453   \n",
       "2  0.66100  0.66100  ... -0.863 -0.863 -0.8630 -0.8630 -0.8630 -0.863 -0.863   \n",
       "3  0.00518  0.00518  ... -0.187 -0.124 -0.0559  0.0118  0.0795  0.157  0.254   \n",
       "4  1.29000  1.29000  ...  1.870  1.830  1.7600  1.6400  1.5200  1.450  1.520   \n",
       "\n",
       "    z313   z314   z315  \n",
       "0  0.419  0.401  0.382  \n",
       "1 -0.465 -0.477 -0.489  \n",
       "2 -0.863 -0.863 -0.863  \n",
       "3  0.446  0.649  0.852  \n",
       "4  1.630  1.750  1.870  \n",
       "\n",
       "[5 rows x 946 columns]"
      ]
     },
     "execution_count": 10,
     "metadata": {},
     "output_type": "execute_result"
    }
   ],
   "source": [
    "concatenated_train = pd.merge(X_train,Y_train.drop('class',axis=1),how='left',left_index=True,right_index=True)\n",
    "concatenated_train = pd.merge(concatenated_train,Z_train.drop('class',axis=1),how='left',left_index=True,right_index=True)\n",
    "print('Data shape: ',concatenated_train.shape)\n",
    "concatenated_train.head()"
   ]
  },
  {
   "cell_type": "code",
   "execution_count": 11,
   "id": "7de7046b",
   "metadata": {},
   "outputs": [
    {
     "name": "stdout",
     "output_type": "stream",
     "text": [
      "Data shape:  (3582, 946)\n"
     ]
    },
    {
     "data": {
      "text/html": [
       "<div>\n",
       "<style scoped>\n",
       "    .dataframe tbody tr th:only-of-type {\n",
       "        vertical-align: middle;\n",
       "    }\n",
       "\n",
       "    .dataframe tbody tr th {\n",
       "        vertical-align: top;\n",
       "    }\n",
       "\n",
       "    .dataframe thead th {\n",
       "        text-align: right;\n",
       "    }\n",
       "</style>\n",
       "<table border=\"1\" class=\"dataframe\">\n",
       "  <thead>\n",
       "    <tr style=\"text-align: right;\">\n",
       "      <th></th>\n",
       "      <th>class</th>\n",
       "      <th>x1</th>\n",
       "      <th>x2</th>\n",
       "      <th>x3</th>\n",
       "      <th>x4</th>\n",
       "      <th>x5</th>\n",
       "      <th>x6</th>\n",
       "      <th>x7</th>\n",
       "      <th>x8</th>\n",
       "      <th>x9</th>\n",
       "      <th>...</th>\n",
       "      <th>z306</th>\n",
       "      <th>z307</th>\n",
       "      <th>z308</th>\n",
       "      <th>z309</th>\n",
       "      <th>z310</th>\n",
       "      <th>z311</th>\n",
       "      <th>z312</th>\n",
       "      <th>z313</th>\n",
       "      <th>z314</th>\n",
       "      <th>z315</th>\n",
       "    </tr>\n",
       "  </thead>\n",
       "  <tbody>\n",
       "    <tr>\n",
       "      <th>0</th>\n",
       "      <td>5</td>\n",
       "      <td>1.5600</td>\n",
       "      <td>1.5600</td>\n",
       "      <td>1.5600</td>\n",
       "      <td>1.5600</td>\n",
       "      <td>1.5600</td>\n",
       "      <td>1.5600</td>\n",
       "      <td>1.5600</td>\n",
       "      <td>1.5600</td>\n",
       "      <td>1.5600</td>\n",
       "      <td>...</td>\n",
       "      <td>-0.348</td>\n",
       "      <td>-0.348</td>\n",
       "      <td>-0.345</td>\n",
       "      <td>-0.341</td>\n",
       "      <td>-0.333</td>\n",
       "      <td>-0.325</td>\n",
       "      <td>-0.318</td>\n",
       "      <td>-0.310</td>\n",
       "      <td>-0.302</td>\n",
       "      <td>-0.295</td>\n",
       "    </tr>\n",
       "    <tr>\n",
       "      <th>1</th>\n",
       "      <td>1</td>\n",
       "      <td>-0.0751</td>\n",
       "      <td>-0.0751</td>\n",
       "      <td>-0.0751</td>\n",
       "      <td>-0.0751</td>\n",
       "      <td>-0.0751</td>\n",
       "      <td>-0.0751</td>\n",
       "      <td>-0.0751</td>\n",
       "      <td>-0.0751</td>\n",
       "      <td>-0.0751</td>\n",
       "      <td>...</td>\n",
       "      <td>0.961</td>\n",
       "      <td>0.849</td>\n",
       "      <td>0.726</td>\n",
       "      <td>0.589</td>\n",
       "      <td>0.539</td>\n",
       "      <td>0.516</td>\n",
       "      <td>0.516</td>\n",
       "      <td>0.516</td>\n",
       "      <td>0.516</td>\n",
       "      <td>0.516</td>\n",
       "    </tr>\n",
       "    <tr>\n",
       "      <th>2</th>\n",
       "      <td>4</td>\n",
       "      <td>1.5100</td>\n",
       "      <td>1.5300</td>\n",
       "      <td>1.5400</td>\n",
       "      <td>1.5600</td>\n",
       "      <td>1.5700</td>\n",
       "      <td>1.5800</td>\n",
       "      <td>1.5800</td>\n",
       "      <td>1.5800</td>\n",
       "      <td>1.5800</td>\n",
       "      <td>...</td>\n",
       "      <td>-0.566</td>\n",
       "      <td>-0.476</td>\n",
       "      <td>-0.399</td>\n",
       "      <td>-0.344</td>\n",
       "      <td>-0.289</td>\n",
       "      <td>-0.234</td>\n",
       "      <td>-0.179</td>\n",
       "      <td>-0.124</td>\n",
       "      <td>-0.069</td>\n",
       "      <td>-0.014</td>\n",
       "    </tr>\n",
       "    <tr>\n",
       "      <th>3</th>\n",
       "      <td>4</td>\n",
       "      <td>1.3000</td>\n",
       "      <td>1.3000</td>\n",
       "      <td>1.3000</td>\n",
       "      <td>1.3000</td>\n",
       "      <td>1.3000</td>\n",
       "      <td>1.3000</td>\n",
       "      <td>1.3000</td>\n",
       "      <td>1.3000</td>\n",
       "      <td>1.3000</td>\n",
       "      <td>...</td>\n",
       "      <td>1.040</td>\n",
       "      <td>1.040</td>\n",
       "      <td>1.040</td>\n",
       "      <td>1.040</td>\n",
       "      <td>1.080</td>\n",
       "      <td>1.120</td>\n",
       "      <td>1.170</td>\n",
       "      <td>1.230</td>\n",
       "      <td>1.280</td>\n",
       "      <td>1.340</td>\n",
       "    </tr>\n",
       "    <tr>\n",
       "      <th>4</th>\n",
       "      <td>5</td>\n",
       "      <td>1.3000</td>\n",
       "      <td>1.3000</td>\n",
       "      <td>1.3000</td>\n",
       "      <td>1.3000</td>\n",
       "      <td>1.3000</td>\n",
       "      <td>1.3000</td>\n",
       "      <td>1.3000</td>\n",
       "      <td>1.3000</td>\n",
       "      <td>1.3000</td>\n",
       "      <td>...</td>\n",
       "      <td>-0.693</td>\n",
       "      <td>-0.690</td>\n",
       "      <td>-0.686</td>\n",
       "      <td>-0.682</td>\n",
       "      <td>-0.679</td>\n",
       "      <td>-0.675</td>\n",
       "      <td>-0.671</td>\n",
       "      <td>-0.668</td>\n",
       "      <td>-0.664</td>\n",
       "      <td>-0.660</td>\n",
       "    </tr>\n",
       "  </tbody>\n",
       "</table>\n",
       "<p>5 rows × 946 columns</p>\n",
       "</div>"
      ],
      "text/plain": [
       "   class      x1      x2      x3      x4      x5      x6      x7      x8  \\\n",
       "0      5  1.5600  1.5600  1.5600  1.5600  1.5600  1.5600  1.5600  1.5600   \n",
       "1      1 -0.0751 -0.0751 -0.0751 -0.0751 -0.0751 -0.0751 -0.0751 -0.0751   \n",
       "2      4  1.5100  1.5300  1.5400  1.5600  1.5700  1.5800  1.5800  1.5800   \n",
       "3      4  1.3000  1.3000  1.3000  1.3000  1.3000  1.3000  1.3000  1.3000   \n",
       "4      5  1.3000  1.3000  1.3000  1.3000  1.3000  1.3000  1.3000  1.3000   \n",
       "\n",
       "       x9  ...   z306   z307   z308   z309   z310   z311   z312   z313   z314  \\\n",
       "0  1.5600  ... -0.348 -0.348 -0.345 -0.341 -0.333 -0.325 -0.318 -0.310 -0.302   \n",
       "1 -0.0751  ...  0.961  0.849  0.726  0.589  0.539  0.516  0.516  0.516  0.516   \n",
       "2  1.5800  ... -0.566 -0.476 -0.399 -0.344 -0.289 -0.234 -0.179 -0.124 -0.069   \n",
       "3  1.3000  ...  1.040  1.040  1.040  1.040  1.080  1.120  1.170  1.230  1.280   \n",
       "4  1.3000  ... -0.693 -0.690 -0.686 -0.682 -0.679 -0.675 -0.671 -0.668 -0.664   \n",
       "\n",
       "    z315  \n",
       "0 -0.295  \n",
       "1  0.516  \n",
       "2 -0.014  \n",
       "3  1.340  \n",
       "4 -0.660  \n",
       "\n",
       "[5 rows x 946 columns]"
      ]
     },
     "execution_count": 11,
     "metadata": {},
     "output_type": "execute_result"
    }
   ],
   "source": [
    "concatenated_test = pd.merge(X_test,Y_test.drop('class',axis=1),how='left',left_index=True,right_index=True)\n",
    "concatenated_test = pd.merge(concatenated_test,Z_test.drop('class',axis=1),how='left',left_index=True,right_index=True)\n",
    "print('Data shape: ',concatenated_test.shape)\n",
    "concatenated_test.head()"
   ]
  },
  {
   "cell_type": "markdown",
   "id": "1052c2ff",
   "metadata": {},
   "source": [
    "* Separate features and labels"
   ]
  },
  {
   "cell_type": "code",
   "execution_count": 12,
   "id": "62ea5d41",
   "metadata": {},
   "outputs": [],
   "source": [
    "C_train = concatenated_train.drop('class',axis=1)\n",
    "L_train = concatenated_train[['class']]\n",
    "\n",
    "C_test = concatenated_test.drop('class',axis=1)\n",
    "L_test = concatenated_test[['class']]"
   ]
  },
  {
   "cell_type": "markdown",
   "id": "790c5e9c",
   "metadata": {},
   "source": [
    "#### Part a"
   ]
  },
  {
   "cell_type": "markdown",
   "id": "3f638eb7",
   "metadata": {},
   "source": [
    "* I will use two distance measures for computing similarity between two time series : \n",
    "    1. Euclidean distance \n",
    "    2. Manhattan distance"
   ]
  },
  {
   "cell_type": "markdown",
   "id": "bbda1dd3",
   "metadata": {},
   "source": [
    "* First for Euclidean distance, I will use the training data to identify the ideal value of k which minimizes the error of a 10-fold cross-validation using GridSearchCV. I will try values of k from 2 to 20.\n",
    "\n",
    "* Normally, I would apply standardization first because KNN is sensitive to scaling but all features here are in similar units; so I will skip standardization"
   ]
  },
  {
   "cell_type": "code",
   "execution_count": 13,
   "id": "64eb4f80",
   "metadata": {},
   "outputs": [
    {
     "name": "stdout",
     "output_type": "stream",
     "text": [
      "Fitting 10 folds for each of 19 candidates, totalling 190 fits\n"
     ]
    },
    {
     "data": {
      "text/plain": [
       "GridSearchCV(cv=10, estimator=KNeighborsClassifier(metric='euclidean'),\n",
       "             param_grid={'n_neighbors': [2, 3, 4, 5, 6, 7, 8, 9, 10, 11, 12, 13,\n",
       "                                         14, 15, 16, 17, 18, 19, 20]},\n",
       "             scoring='accuracy', verbose=1)"
      ]
     },
     "execution_count": 13,
     "metadata": {},
     "output_type": "execute_result"
    }
   ],
   "source": [
    "knn_euclidean_grids = GridSearchCV(KNeighborsClassifier(metric='euclidean'),\n",
    "                                   {'n_neighbors':list(range(2,21))},\n",
    "                                   cv=10,\n",
    "                                   scoring='accuracy',\n",
    "                                   verbose=1)\n",
    "\n",
    "knn_euclidean_grids.fit(C_train,L_train['class'].ravel())"
   ]
  },
  {
   "cell_type": "code",
   "execution_count": 14,
   "id": "bb082e9e",
   "metadata": {},
   "outputs": [
    {
     "data": {
      "text/plain": [
       "KNeighborsClassifier(metric='euclidean', n_neighbors=3)"
      ]
     },
     "execution_count": 14,
     "metadata": {},
     "output_type": "execute_result"
    }
   ],
   "source": [
    "knn_euclidean_grids.best_estimator_"
   ]
  },
  {
   "cell_type": "markdown",
   "id": "53b35f9c",
   "metadata": {},
   "source": [
    "* The ideal value of k which minimizes the error (maximizes the accuracy) of a 10-fold cross-validation is 3 for Euclidean distance"
   ]
  },
  {
   "cell_type": "markdown",
   "id": "15f9c6e4",
   "metadata": {},
   "source": [
    "* Now, I will apply the same procedure using Mahalanobis distance"
   ]
  },
  {
   "cell_type": "code",
   "execution_count": 15,
   "id": "9c3bf26a",
   "metadata": {},
   "outputs": [
    {
     "name": "stdout",
     "output_type": "stream",
     "text": [
      "Fitting 10 folds for each of 19 candidates, totalling 190 fits\n"
     ]
    },
    {
     "data": {
      "text/plain": [
       "GridSearchCV(cv=10, estimator=KNeighborsClassifier(metric='manhattan'),\n",
       "             param_grid={'n_neighbors': [2, 3, 4, 5, 6, 7, 8, 9, 10, 11, 12, 13,\n",
       "                                         14, 15, 16, 17, 18, 19, 20]},\n",
       "             scoring='accuracy', verbose=1)"
      ]
     },
     "execution_count": 15,
     "metadata": {},
     "output_type": "execute_result"
    }
   ],
   "source": [
    "knn_manhattan_grids = GridSearchCV(KNeighborsClassifier(metric='manhattan'),\n",
    "                                   {'n_neighbors':list(range(2,21))},\n",
    "                                   cv=10,\n",
    "                                   scoring='accuracy',\n",
    "                                   verbose=1)\n",
    "\n",
    "knn_manhattan_grids.fit(C_train,L_train['class'].ravel())"
   ]
  },
  {
   "cell_type": "code",
   "execution_count": 16,
   "id": "1c60e438",
   "metadata": {},
   "outputs": [
    {
     "data": {
      "text/plain": [
       "KNeighborsClassifier(metric='manhattan', n_neighbors=3)"
      ]
     },
     "execution_count": 16,
     "metadata": {},
     "output_type": "execute_result"
    }
   ],
   "source": [
    "knn_manhattan_grids.best_estimator_"
   ]
  },
  {
   "cell_type": "markdown",
   "id": "910a72c0",
   "metadata": {},
   "source": [
    "* The ideal value of k which minimizes the error (maximizes the accuracy) of a 10-fold cross-validation is also 3 for Manhattan distance"
   ]
  },
  {
   "cell_type": "markdown",
   "id": "b8067190",
   "metadata": {},
   "source": [
    "#### Part a"
   ]
  },
  {
   "cell_type": "markdown",
   "id": "dc61c315",
   "metadata": {},
   "source": [
    "##### For Euclidean distances:"
   ]
  },
  {
   "cell_type": "code",
   "execution_count": 17,
   "id": "455bd185",
   "metadata": {},
   "outputs": [
    {
     "data": {
      "text/plain": [
       "<AxesSubplot:>"
      ]
     },
     "execution_count": 17,
     "metadata": {},
     "output_type": "execute_result"
    },
    {
     "data": {
      "image/png": "[encoded data removed]",
      "text/plain": [
       "<Figure size 1008x432 with 2 Axes>"
      ]
     },
     "metadata": {
      "needs_background": "light"
     },
     "output_type": "display_data"
    }
   ],
   "source": [
    "start = time.time()\n",
    "\n",
    "#fit knn\n",
    "knn_euc = KNeighborsClassifier(metric='euclidean',n_neighbors=3)\n",
    "knn_euc.fit(C_train,L_train['class'].ravel())\n",
    "\n",
    "#predict train labels and join with true labels\n",
    "knn_euc_train_labels = pd.DataFrame(knn_euc.predict(C_train),columns=['class_pred'],index=C_train.index)\n",
    "knn_euc_train_labels = pd.merge(knn_euc_train_labels,L_train,how='left',left_index=True,right_index=True)\n",
    "\n",
    "#predict test labels and join with true labels\n",
    "knn_euc_test_labels = pd.DataFrame(knn_euc.predict(C_test),columns=['class_pred'],index=C_test.index)\n",
    "knn_euc_test_labels = pd.merge(knn_euc_test_labels,L_test,how='left',left_index=True,right_index=True)\n",
    "\n",
    "end = time.time()\n",
    "train_time_knn_euc = end - start\n",
    "\n",
    "#accuracy calculation\n",
    "knn_euc_train_acc = accuracy_score(knn_euc_train_labels['class'],knn_euc_train_labels['class_pred'])\n",
    "knn_euc_test_acc = accuracy_score(knn_euc_test_labels['class'],knn_euc_test_labels['class_pred'])\n",
    "\n",
    "#confusion matrix calculation\n",
    "conf_matrix = pd.DataFrame(confusion_matrix(knn_euc_test_labels['class'],knn_euc_test_labels['class_pred']),columns=['1','2','3','4','5','6','7','8'],index=['1','2','3','4','5','6','7','8'])\n",
    "\n",
    "plt.figure(figsize=(14,6))\n",
    "plt.subplot(1,2,1)\n",
    "sns.heatmap(conf_matrix,annot=True,fmt='g')"
   ]
  },
  {
   "cell_type": "code",
   "execution_count": 18,
   "id": "4bf95173",
   "metadata": {},
   "outputs": [
    {
     "name": "stdout",
     "output_type": "stream",
     "text": [
      "Runtime is 0.24035429954528809 seconds\n",
      "Train accuracy is 0.9676339285714286\n",
      "Test accuracy is 0.9438860971524288\n"
     ]
    }
   ],
   "source": [
    "print(f\"Runtime is {train_time_knn_euc} seconds\")\n",
    "print(f\"Train accuracy is {knn_euc_train_acc}\")\n",
    "print(f\"Test accuracy is {knn_euc_test_acc}\")"
   ]
  },
  {
   "cell_type": "markdown",
   "id": "2e0943aa",
   "metadata": {},
   "source": [
    "#### Comments \n",
    "\n",
    "* Runtime is 0.24 seconds. Test accuracy is 94% which is a high value.\n",
    "* Mostly misclassified gestures are 4 and 5. Also, gesture 3 is misclassified as 5 and 6; and gesture 6 is misclassified as 4 and 5."
   ]
  },
  {
   "cell_type": "markdown",
   "id": "c6c1efdd",
   "metadata": {},
   "source": [
    "##### For Manhattan distances:"
   ]
  },
  {
   "cell_type": "code",
   "execution_count": 19,
   "id": "189bd4c8",
   "metadata": {},
   "outputs": [
    {
     "data": {
      "text/plain": [
       "<AxesSubplot:>"
      ]
     },
     "execution_count": 19,
     "metadata": {},
     "output_type": "execute_result"
    },
    {
     "data": {
      "image/png": "[encoded data removed]",
      "text/plain": [
       "<Figure size 1008x432 with 2 Axes>"
      ]
     },
     "metadata": {
      "needs_background": "light"
     },
     "output_type": "display_data"
    }
   ],
   "source": [
    "start = time.time()\n",
    "\n",
    "#fit knn\n",
    "knn_man = KNeighborsClassifier(metric='manhattan',n_neighbors=3)\n",
    "knn_man.fit(C_train,L_train['class'].ravel())\n",
    "\n",
    "#predict train labels and join with true labels\n",
    "knn_man_train_labels = pd.DataFrame(knn_man.predict(C_train),columns=['class_pred'],index=C_train.index)\n",
    "knn_man_train_labels = pd.merge(knn_man_train_labels,L_train,how='left',left_index=True,right_index=True)\n",
    "\n",
    "#predict test labels and join with true labels\n",
    "knn_man_test_labels = pd.DataFrame(knn_man.predict(C_test),columns=['class_pred'],index=C_test.index)\n",
    "knn_man_test_labels = pd.merge(knn_man_test_labels,L_test,how='left',left_index=True,right_index=True)\n",
    "\n",
    "end = time.time()\n",
    "train_time_knn_man = end - start\n",
    "\n",
    "#accuracy calculation\n",
    "knn_man_train_acc = accuracy_score(knn_man_train_labels['class'],knn_man_train_labels['class_pred'])\n",
    "knn_man_test_acc = accuracy_score(knn_man_test_labels['class'],knn_man_test_labels['class_pred'])\n",
    "\n",
    "#confusion matrix calculation\n",
    "conf_matrix = pd.DataFrame(confusion_matrix(knn_man_test_labels['class'],knn_man_test_labels['class_pred']),columns=['1','2','3','4','5','6','7','8'],index=['1','2','3','4','5','6','7','8'])\n",
    "\n",
    "plt.figure(figsize=(14,6))\n",
    "plt.subplot(1,2,1)\n",
    "sns.heatmap(conf_matrix,annot=True,fmt='g')"
   ]
  },
  {
   "cell_type": "code",
   "execution_count": 20,
   "id": "fb3ab8ad",
   "metadata": {},
   "outputs": [
    {
     "name": "stdout",
     "output_type": "stream",
     "text": [
      "Runtime is 4.872249603271484 seconds\n",
      "Train accuracy is 0.9776785714285714\n",
      "Test accuracy is 0.9500279173646008\n"
     ]
    }
   ],
   "source": [
    "print(f\"Runtime is {train_time_knn_man} seconds\")\n",
    "print(f\"Train accuracy is {knn_man_train_acc}\")\n",
    "print(f\"Test accuracy is {knn_man_test_acc}\")"
   ]
  },
  {
   "cell_type": "markdown",
   "id": "db7051e5",
   "metadata": {},
   "source": [
    "#### Comments \n",
    "\n",
    "* Runtime is 5.20 seconds, which is approximately 20 times higher than the one of KNN with Euclidean distance measure. Test accuracy is 95% which is slightly higher than the one of KNN with Euclidean distance measure.\n",
    "* Like in Euclidean distance case, mostly misclassified gestures are 4 and 5. Also, gesture 3 is misclassified as 5 and 6; and gesture 6 is misclassified as 4 and 5."
   ]
  },
  {
   "cell_type": "markdown",
   "id": "be79d9e3",
   "metadata": {},
   "source": [
    "#### Part c"
   ]
  },
  {
   "cell_type": "markdown",
   "id": "14e238d1",
   "metadata": {},
   "source": [
    "When we examine confusion matrices we can see that the classifiers fail to distinguish between gestures 3,4,5 and 6. Based on this, I do not think that equally weighting of axes is reasonable. Giving more weight to axes X and Y than Z might make sense. Mostly misclassified gesture is 4 which shows a horizontal movement; it is classified as 5 which is a vertical movement. Giving more weights to horizontal and vertical axes may fix those misclassifications."
   ]
  },
  {
   "cell_type": "markdown",
   "id": "d17d068d",
   "metadata": {},
   "source": [
    "### Task 2 – Linear models on alternative representations of the data"
   ]
  },
  {
   "cell_type": "markdown",
   "id": "a53a4511",
   "metadata": {},
   "source": [
    "* Convert labels to binary: 1 if class is 3; 0 otherwise"
   ]
  },
  {
   "cell_type": "code",
   "execution_count": 21,
   "id": "cdef963a",
   "metadata": {},
   "outputs": [
    {
     "name": "stderr",
     "output_type": "stream",
     "text": [
      "<ipython-input-21-fca1b71dc710>:1: SettingWithCopyWarning: \n",
      "A value is trying to be set on a copy of a slice from a DataFrame.\n",
      "Try using .loc[row_indexer,col_indexer] = value instead\n",
      "\n",
      "See the caveats in the documentation: https://pandas.pydata.org/pandas-docs/stable/user_guide/indexing.html#returning-a-view-versus-a-copy\n",
      "  L_train['class'] = L_train['class'].apply(lambda x: 1 if x==3 else 0)\n",
      "<ipython-input-21-fca1b71dc710>:2: SettingWithCopyWarning: \n",
      "A value is trying to be set on a copy of a slice from a DataFrame.\n",
      "Try using .loc[row_indexer,col_indexer] = value instead\n",
      "\n",
      "See the caveats in the documentation: https://pandas.pydata.org/pandas-docs/stable/user_guide/indexing.html#returning-a-view-versus-a-copy\n",
      "  L_test['class'] = L_test['class'].apply(lambda x: 1 if x==3 else 0)\n"
     ]
    }
   ],
   "source": [
    "L_train['class'] = L_train['class'].apply(lambda x: 1 if x==3 else 0)\n",
    "L_test['class'] = L_test['class'].apply(lambda x: 1 if x==3 else 0)"
   ]
  },
  {
   "cell_type": "code",
   "execution_count": 22,
   "id": "0a8fefd1",
   "metadata": {},
   "outputs": [
    {
     "name": "stdout",
     "output_type": "stream",
     "text": [
      "Class counts: \n",
      "0    790\n",
      "1    106\n",
      "Name: class, dtype: int64\n",
      "Class percents: \n",
      "0    88.169643\n",
      "1    11.830357\n",
      "Name: class, dtype: float64\n"
     ]
    }
   ],
   "source": [
    "print('Class counts: ')\n",
    "print(L_train['class'].value_counts().sort_index())\n",
    "print('Class percents: ')\n",
    "print(L_train['class'].value_counts().sort_index()*100/L_train.shape[0])"
   ]
  },
  {
   "cell_type": "code",
   "execution_count": 23,
   "id": "abbf1743",
   "metadata": {},
   "outputs": [
    {
     "name": "stdout",
     "output_type": "stream",
     "text": [
      "Class counts: \n",
      "0    3128\n",
      "1     454\n",
      "Name: class, dtype: int64\n",
      "Class percents: \n",
      "0    87.325516\n",
      "1    12.674484\n",
      "Name: class, dtype: float64\n"
     ]
    }
   ],
   "source": [
    "print('Class counts: ')\n",
    "print(L_test['class'].value_counts().sort_index())\n",
    "print('Class percents: ')\n",
    "print(L_test['class'].value_counts().sort_index()*100/L_test.shape[0])"
   ]
  },
  {
   "cell_type": "markdown",
   "id": "e308883e",
   "metadata": {},
   "source": [
    "* Positive class ratios are similar in train and test data which is a good thing because otherwise a classifier trained on train data might not work well in test data."
   ]
  },
  {
   "cell_type": "markdown",
   "id": "22abc7ef",
   "metadata": {},
   "source": [
    "#### Part a"
   ]
  },
  {
   "cell_type": "markdown",
   "id": "a0876e11",
   "metadata": {},
   "source": [
    "* Fit a logistic regression classifier"
   ]
  },
  {
   "cell_type": "code",
   "execution_count": 24,
   "id": "26d29c2a",
   "metadata": {},
   "outputs": [
    {
     "name": "stderr",
     "output_type": "stream",
     "text": [
      "c:\\users\\cidem\\appdata\\local\\programs\\python\\python39\\lib\\site-packages\\sklearn\\utils\\validation.py:63: DataConversionWarning: A column-vector y was passed when a 1d array was expected. Please change the shape of y to (n_samples, ), for example using ravel().\n",
      "  return f(*args, **kwargs)\n",
      "c:\\users\\cidem\\appdata\\local\\programs\\python\\python39\\lib\\site-packages\\sklearn\\linear_model\\_logistic.py:763: ConvergenceWarning: lbfgs failed to converge (status=1):\n",
      "STOP: TOTAL NO. of ITERATIONS REACHED LIMIT.\n",
      "\n",
      "Increase the number of iterations (max_iter) or scale the data as shown in:\n",
      "    https://scikit-learn.org/stable/modules/preprocessing.html\n",
      "Please also refer to the documentation for alternative solver options:\n",
      "    https://scikit-learn.org/stable/modules/linear_model.html#logistic-regression\n",
      "  n_iter_i = _check_optimize_result(\n"
     ]
    },
    {
     "data": {
      "text/plain": [
       "LogisticRegression()"
      ]
     },
     "execution_count": 24,
     "metadata": {},
     "output_type": "execute_result"
    }
   ],
   "source": [
    "lr = LogisticRegression()\n",
    "lr.fit(C_train,L_train)"
   ]
  },
  {
   "cell_type": "markdown",
   "id": "6a95efd0",
   "metadata": {},
   "source": [
    "* Predict the class for test data"
   ]
  },
  {
   "cell_type": "code",
   "execution_count": 25,
   "id": "cbdf7fa9",
   "metadata": {},
   "outputs": [
    {
     "name": "stdout",
     "output_type": "stream",
     "text": [
      "Predicted Class 3 counts: \n",
      "0    3018\n",
      "1     564\n",
      "Name: class_pred, dtype: int64\n",
      "Predicted Class 3 percents: \n",
      "0    84.254606\n",
      "1    15.745394\n",
      "Name: class_pred, dtype: float64\n"
     ]
    }
   ],
   "source": [
    "#Test predictions dataframe\n",
    "test_pred_lr = pd.DataFrame(lr.predict_proba(C_test)[:,1],columns=['class_pred_proba'],index=C_test.index)\n",
    "#Join with true labels\n",
    "test_pred_lr = pd.merge(test_pred_lr,L_test,how='left',left_index=True,right_index=True)\n",
    "#Convert predicted probabilities to labels using positive ratio of train labels\n",
    "pos_ratio_train = L_train[L_train['class']==1].sum()[0]/L_train.shape[0]\n",
    "test_pred_lr['class_pred'] = test_pred_lr['class_pred_proba'].apply(lambda x: 1 if x>=pos_ratio_train else 0)\n",
    "\n",
    "print('Predicted Class 3 counts: ')\n",
    "print(test_pred_lr['class_pred'].value_counts().sort_index())\n",
    "print('Predicted Class 3 percents: ')\n",
    "print(test_pred_lr['class_pred'].value_counts().sort_index()*100/test_pred_lr.shape[0])"
   ]
  },
  {
   "cell_type": "code",
   "execution_count": 26,
   "id": "b104e1d5",
   "metadata": {},
   "outputs": [
    {
     "name": "stdout",
     "output_type": "stream",
     "text": [
      "Test accuracy of logistic regression:  0.9168062534896706\n"
     ]
    },
    {
     "data": {
      "text/plain": [
       "<AxesSubplot:>"
      ]
     },
     "execution_count": 26,
     "metadata": {},
     "output_type": "execute_result"
    },
    {
     "data": {
      "image/png": "[encoded data removed]",
      "text/plain": [
       "<Figure size 1008x432 with 2 Axes>"
      ]
     },
     "metadata": {
      "needs_background": "light"
     },
     "output_type": "display_data"
    }
   ],
   "source": [
    "#accuracy calculation\n",
    "print('Test accuracy of logistic regression: ',accuracy_score(test_pred_lr['class'],test_pred_lr['class_pred']))\n",
    "\n",
    "#confusion matrix calculation\n",
    "conf_matrix_lr = pd.DataFrame(confusion_matrix(test_pred_lr['class'],test_pred_lr['class_pred']))\n",
    "\n",
    "plt.figure(figsize=(14,6))\n",
    "plt.subplot(1,2,1)\n",
    "sns.heatmap(conf_matrix_lr,annot=True,fmt='g')"
   ]
  },
  {
   "cell_type": "markdown",
   "id": "be369bdd",
   "metadata": {},
   "source": [
    "* Accuracy is 92%; it is high but the number of misclassified cases especially false positives is also high. When the data is imbalanced just looking at accuracy as a performance measure may be misleading."
   ]
  },
  {
   "cell_type": "markdown",
   "id": "2c011782",
   "metadata": {},
   "source": [
    "#### Part b"
   ]
  },
  {
   "cell_type": "markdown",
   "id": "e0403ec6",
   "metadata": {},
   "source": [
    "* Regularized logistic regression with lasso penalties\n",
    "* Find ideal lambda based on binomial deviance using 10-fold CV\n",
    "* Tried values: [0.1,0.5,1,2,5,10,20]"
   ]
  },
  {
   "cell_type": "code",
   "execution_count": 27,
   "id": "4db191ff",
   "metadata": {},
   "outputs": [
    {
     "name": "stderr",
     "output_type": "stream",
     "text": [
      "c:\\users\\cidem\\appdata\\local\\programs\\python\\python39\\lib\\site-packages\\sklearn\\utils\\validation.py:63: DataConversionWarning: A column-vector y was passed when a 1d array was expected. Please change the shape of y to (n_samples, ), for example using ravel().\n",
      "  return f(*args, **kwargs)\n"
     ]
    },
    {
     "data": {
      "text/plain": [
       "LogisticRegressionCV(Cs=[0.1, 0.5, 1, 2, 5, 10, 20], cv=10, penalty='l1',\n",
       "                     random_state=42, scoring='neg_log_loss',\n",
       "                     solver='liblinear')"
      ]
     },
     "execution_count": 27,
     "metadata": {},
     "output_type": "execute_result"
    }
   ],
   "source": [
    "lr_cv = LogisticRegressionCV(Cs=[0.1,0.5,1,2,5,10,20],cv=10,penalty='l1',scoring='neg_log_loss', solver='liblinear',random_state=42)\n",
    "lr_cv.fit(C_train,L_train)"
   ]
  },
  {
   "cell_type": "code",
   "execution_count": 28,
   "id": "18d17564",
   "metadata": {},
   "outputs": [
    {
     "data": {
      "text/plain": [
       "array([0.5])"
      ]
     },
     "execution_count": 28,
     "metadata": {},
     "output_type": "execute_result"
    }
   ],
   "source": [
    "lr_cv.C_"
   ]
  },
  {
   "cell_type": "markdown",
   "id": "b0ffdb61",
   "metadata": {},
   "source": [
    "* Best reqularization parameter is 0.5"
   ]
  },
  {
   "cell_type": "markdown",
   "id": "2ef6557b",
   "metadata": {},
   "source": [
    "* Predict the class for test data"
   ]
  },
  {
   "cell_type": "code",
   "execution_count": 29,
   "id": "33b1a0cd",
   "metadata": {},
   "outputs": [
    {
     "name": "stdout",
     "output_type": "stream",
     "text": [
      "Predicted Class 3 counts: \n",
      "0    2905\n",
      "1     677\n",
      "Name: class_pred, dtype: int64\n",
      "Predicted Class 3 percents: \n",
      "0    81.099944\n",
      "1    18.900056\n",
      "Name: class_pred, dtype: float64\n"
     ]
    }
   ],
   "source": [
    "#Test predictions dataframe\n",
    "test_pred_lr_cv = pd.DataFrame(lr_cv.predict_proba(C_test)[:,1],columns=['class_pred_proba'],index=C_test.index)\n",
    "#Join with true labels\n",
    "test_pred_lr_cv = pd.merge(test_pred_lr_cv,L_test,how='left',left_index=True,right_index=True)\n",
    "#Convert predicted probabilities to labels using positive ratio of train labels\n",
    "pos_ratio_train = L_train[L_train['class']==1].sum()[0]/L_train.shape[0]\n",
    "test_pred_lr_cv['class_pred'] = test_pred_lr_cv['class_pred_proba'].apply(lambda x: 1 if x>=pos_ratio_train else 0)\n",
    "\n",
    "print('Predicted Class 3 counts: ')\n",
    "print(test_pred_lr_cv['class_pred'].value_counts().sort_index())\n",
    "print('Predicted Class 3 percents: ')\n",
    "print(test_pred_lr_cv['class_pred'].value_counts().sort_index()*100/test_pred_lr_cv.shape[0])"
   ]
  },
  {
   "cell_type": "code",
   "execution_count": 30,
   "id": "f27783f8",
   "metadata": {},
   "outputs": [
    {
     "name": "stdout",
     "output_type": "stream",
     "text": [
      "Test accuracy of logistic regression:  0.9193188163037409\n"
     ]
    },
    {
     "data": {
      "text/plain": [
       "<AxesSubplot:>"
      ]
     },
     "execution_count": 30,
     "metadata": {},
     "output_type": "execute_result"
    },
    {
     "data": {
      "image/png": "[encoded data removed]",
      "text/plain": [
       "<Figure size 1008x432 with 2 Axes>"
      ]
     },
     "metadata": {
      "needs_background": "light"
     },
     "output_type": "display_data"
    }
   ],
   "source": [
    "#accuracy calculation\n",
    "print('Test accuracy of logistic regression: ',accuracy_score(test_pred_lr_cv['class'],test_pred_lr_cv['class_pred']))\n",
    "\n",
    "#confusion matrix calculation\n",
    "conf_matrix_lr_cv = pd.DataFrame(confusion_matrix(test_pred_lr_cv['class'],test_pred_lr_cv['class_pred']))\n",
    "\n",
    "plt.figure(figsize=(14,6))\n",
    "plt.subplot(1,2,1)\n",
    "sns.heatmap(conf_matrix_lr_cv,annot=True,fmt='g')"
   ]
  },
  {
   "cell_type": "markdown",
   "id": "df4dd6ad",
   "metadata": {},
   "source": [
    "* Comparing to non-regularized logistic regression, test accuracy is slightly increased.\n",
    "* Number of false negatives decreases significantly, number of true positives increases but number of false positives increases."
   ]
  },
  {
   "cell_type": "code",
   "execution_count": 31,
   "id": "4d473606",
   "metadata": {},
   "outputs": [
    {
     "name": "stdout",
     "output_type": "stream",
     "text": [
      "Number of features:  945\n",
      "Number of features with nonzero coefficient:  71\n"
     ]
    }
   ],
   "source": [
    "coef_df = pd.DataFrame(lr_cv.coef_.T,columns=['lr_coefficients'],index=C_train.columns)\n",
    "nonzero_coef_df = coef_df[coef_df['lr_coefficients']!=0]\n",
    "print('Number of features: ',coef_df.shape[0])\n",
    "print('Number of features with nonzero coefficient: ',nonzero_coef_df.shape[0])"
   ]
  },
  {
   "cell_type": "markdown",
   "id": "f30b636b",
   "metadata": {},
   "source": [
    "* Only 71 of 945 features are selected using Lasso penalties."
   ]
  },
  {
   "cell_type": "markdown",
   "id": "296e6929",
   "metadata": {},
   "source": [
    "* Distribution of coefficients is as follows:"
   ]
  },
  {
   "cell_type": "code",
   "execution_count": 32,
   "id": "fe522269",
   "metadata": {},
   "outputs": [
    {
     "data": {
      "text/html": [
       "<div>\n",
       "<style scoped>\n",
       "    .dataframe tbody tr th:only-of-type {\n",
       "        vertical-align: middle;\n",
       "    }\n",
       "\n",
       "    .dataframe tbody tr th {\n",
       "        vertical-align: top;\n",
       "    }\n",
       "\n",
       "    .dataframe thead th {\n",
       "        text-align: right;\n",
       "    }\n",
       "</style>\n",
       "<table border=\"1\" class=\"dataframe\">\n",
       "  <thead>\n",
       "    <tr style=\"text-align: right;\">\n",
       "      <th></th>\n",
       "      <th>lr_coefficients</th>\n",
       "    </tr>\n",
       "  </thead>\n",
       "  <tbody>\n",
       "    <tr>\n",
       "      <th>count</th>\n",
       "      <td>71.000000</td>\n",
       "    </tr>\n",
       "    <tr>\n",
       "      <th>mean</th>\n",
       "      <td>0.048269</td>\n",
       "    </tr>\n",
       "    <tr>\n",
       "      <th>std</th>\n",
       "      <td>0.201911</td>\n",
       "    </tr>\n",
       "    <tr>\n",
       "      <th>min</th>\n",
       "      <td>-0.375220</td>\n",
       "    </tr>\n",
       "    <tr>\n",
       "      <th>25%</th>\n",
       "      <td>-0.053001</td>\n",
       "    </tr>\n",
       "    <tr>\n",
       "      <th>50%</th>\n",
       "      <td>0.009090</td>\n",
       "    </tr>\n",
       "    <tr>\n",
       "      <th>75%</th>\n",
       "      <td>0.103866</td>\n",
       "    </tr>\n",
       "    <tr>\n",
       "      <th>max</th>\n",
       "      <td>0.888479</td>\n",
       "    </tr>\n",
       "  </tbody>\n",
       "</table>\n",
       "</div>"
      ],
      "text/plain": [
       "       lr_coefficients\n",
       "count        71.000000\n",
       "mean          0.048269\n",
       "std           0.201911\n",
       "min          -0.375220\n",
       "25%          -0.053001\n",
       "50%           0.009090\n",
       "75%           0.103866\n",
       "max           0.888479"
      ]
     },
     "execution_count": 32,
     "metadata": {},
     "output_type": "execute_result"
    }
   ],
   "source": [
    "nonzero_coef_df.describe()"
   ]
  },
  {
   "cell_type": "code",
   "execution_count": 33,
   "id": "d37f4de4",
   "metadata": {},
   "outputs": [
    {
     "data": {
      "text/html": [
       "<div>\n",
       "<style scoped>\n",
       "    .dataframe tbody tr th:only-of-type {\n",
       "        vertical-align: middle;\n",
       "    }\n",
       "\n",
       "    .dataframe tbody tr th {\n",
       "        vertical-align: top;\n",
       "    }\n",
       "\n",
       "    .dataframe thead th {\n",
       "        text-align: right;\n",
       "    }\n",
       "</style>\n",
       "<table border=\"1\" class=\"dataframe\">\n",
       "  <thead>\n",
       "    <tr style=\"text-align: right;\">\n",
       "      <th></th>\n",
       "      <th>lr_coefficients</th>\n",
       "    </tr>\n",
       "  </thead>\n",
       "  <tbody>\n",
       "    <tr>\n",
       "      <th>z180</th>\n",
       "      <td>-0.375220</td>\n",
       "    </tr>\n",
       "    <tr>\n",
       "      <th>x88</th>\n",
       "      <td>-0.281406</td>\n",
       "    </tr>\n",
       "    <tr>\n",
       "      <th>z257</th>\n",
       "      <td>-0.254234</td>\n",
       "    </tr>\n",
       "    <tr>\n",
       "      <th>x44</th>\n",
       "      <td>-0.202512</td>\n",
       "    </tr>\n",
       "    <tr>\n",
       "      <th>x43</th>\n",
       "      <td>-0.170289</td>\n",
       "    </tr>\n",
       "    <tr>\n",
       "      <th>...</th>\n",
       "      <td>...</td>\n",
       "    </tr>\n",
       "    <tr>\n",
       "      <th>x258</th>\n",
       "      <td>0.439836</td>\n",
       "    </tr>\n",
       "    <tr>\n",
       "      <th>x282</th>\n",
       "      <td>0.464329</td>\n",
       "    </tr>\n",
       "    <tr>\n",
       "      <th>y192</th>\n",
       "      <td>0.524382</td>\n",
       "    </tr>\n",
       "    <tr>\n",
       "      <th>x315</th>\n",
       "      <td>0.558377</td>\n",
       "    </tr>\n",
       "    <tr>\n",
       "      <th>y166</th>\n",
       "      <td>0.888479</td>\n",
       "    </tr>\n",
       "  </tbody>\n",
       "</table>\n",
       "<p>71 rows × 1 columns</p>\n",
       "</div>"
      ],
      "text/plain": [
       "      lr_coefficients\n",
       "z180        -0.375220\n",
       "x88         -0.281406\n",
       "z257        -0.254234\n",
       "x44         -0.202512\n",
       "x43         -0.170289\n",
       "...               ...\n",
       "x258         0.439836\n",
       "x282         0.464329\n",
       "y192         0.524382\n",
       "x315         0.558377\n",
       "y166         0.888479\n",
       "\n",
       "[71 rows x 1 columns]"
      ]
     },
     "execution_count": 33,
     "metadata": {},
     "output_type": "execute_result"
    }
   ],
   "source": [
    "nonzero_coef_df.sort_values(by='lr_coefficients')"
   ]
  },
  {
   "cell_type": "markdown",
   "id": "0d4cbe9d",
   "metadata": {},
   "source": [
    "* Gesture 3 is a movement along horizontal axis but the largest coefficient belongs to a Y-axis feature which is interesting I think.\n",
    "* Second largest coefficient belongs to an X-axis feature, x315, and second most negative coefficient belongs to x88. This may be a characteristic of the movement from left to right along the X-axis."
   ]
  },
  {
   "cell_type": "markdown",
   "id": "fca34d73",
   "metadata": {},
   "source": [
    "#### Part c"
   ]
  },
  {
   "cell_type": "markdown",
   "id": "ee57add6",
   "metadata": {},
   "source": [
    "* Transform the training data into distance information"
   ]
  },
  {
   "cell_type": "code",
   "execution_count": 34,
   "id": "0eb84d08",
   "metadata": {},
   "outputs": [
    {
     "data": {
      "text/plain": [
       "(896, 945)"
      ]
     },
     "execution_count": 34,
     "metadata": {},
     "output_type": "execute_result"
    }
   ],
   "source": [
    "C_train.shape"
   ]
  },
  {
   "cell_type": "code",
   "execution_count": 35,
   "id": "968bc8c4",
   "metadata": {},
   "outputs": [
    {
     "name": "stdout",
     "output_type": "stream",
     "text": [
      "Data shape:  (896, 896)\n"
     ]
    },
    {
     "data": {
      "text/html": [
       "<div>\n",
       "<style scoped>\n",
       "    .dataframe tbody tr th:only-of-type {\n",
       "        vertical-align: middle;\n",
       "    }\n",
       "\n",
       "    .dataframe tbody tr th {\n",
       "        vertical-align: top;\n",
       "    }\n",
       "\n",
       "    .dataframe thead th {\n",
       "        text-align: right;\n",
       "    }\n",
       "</style>\n",
       "<table border=\"1\" class=\"dataframe\">\n",
       "  <thead>\n",
       "    <tr style=\"text-align: right;\">\n",
       "      <th></th>\n",
       "      <th>0</th>\n",
       "      <th>1</th>\n",
       "      <th>2</th>\n",
       "      <th>3</th>\n",
       "      <th>4</th>\n",
       "      <th>5</th>\n",
       "      <th>6</th>\n",
       "      <th>7</th>\n",
       "      <th>8</th>\n",
       "      <th>9</th>\n",
       "      <th>...</th>\n",
       "      <th>886</th>\n",
       "      <th>887</th>\n",
       "      <th>888</th>\n",
       "      <th>889</th>\n",
       "      <th>890</th>\n",
       "      <th>891</th>\n",
       "      <th>892</th>\n",
       "      <th>893</th>\n",
       "      <th>894</th>\n",
       "      <th>895</th>\n",
       "    </tr>\n",
       "  </thead>\n",
       "  <tbody>\n",
       "    <tr>\n",
       "      <th>0</th>\n",
       "      <td>0.000001</td>\n",
       "      <td>51.293618</td>\n",
       "      <td>46.483580</td>\n",
       "      <td>49.992656</td>\n",
       "      <td>40.530982</td>\n",
       "      <td>48.763804</td>\n",
       "      <td>49.759032</td>\n",
       "      <td>34.465672</td>\n",
       "      <td>38.358805</td>\n",
       "      <td>30.467454</td>\n",
       "      <td>...</td>\n",
       "      <td>45.998287</td>\n",
       "      <td>39.732263</td>\n",
       "      <td>41.254377</td>\n",
       "      <td>37.264637</td>\n",
       "      <td>52.614936</td>\n",
       "      <td>34.607660</td>\n",
       "      <td>40.361897</td>\n",
       "      <td>43.576364</td>\n",
       "      <td>47.166592</td>\n",
       "      <td>52.280427</td>\n",
       "    </tr>\n",
       "    <tr>\n",
       "      <th>1</th>\n",
       "      <td>51.293618</td>\n",
       "      <td>0.000000</td>\n",
       "      <td>26.156809</td>\n",
       "      <td>36.848468</td>\n",
       "      <td>32.720869</td>\n",
       "      <td>37.629532</td>\n",
       "      <td>38.187191</td>\n",
       "      <td>50.043217</td>\n",
       "      <td>37.792181</td>\n",
       "      <td>57.616499</td>\n",
       "      <td>...</td>\n",
       "      <td>46.037268</td>\n",
       "      <td>49.017386</td>\n",
       "      <td>32.326936</td>\n",
       "      <td>49.033400</td>\n",
       "      <td>34.098151</td>\n",
       "      <td>44.408497</td>\n",
       "      <td>54.640323</td>\n",
       "      <td>41.232393</td>\n",
       "      <td>43.262311</td>\n",
       "      <td>24.420212</td>\n",
       "    </tr>\n",
       "    <tr>\n",
       "      <th>2</th>\n",
       "      <td>46.483580</td>\n",
       "      <td>26.156809</td>\n",
       "      <td>0.000000</td>\n",
       "      <td>43.114247</td>\n",
       "      <td>34.699562</td>\n",
       "      <td>34.765189</td>\n",
       "      <td>52.896076</td>\n",
       "      <td>45.077507</td>\n",
       "      <td>39.331217</td>\n",
       "      <td>54.024838</td>\n",
       "      <td>...</td>\n",
       "      <td>49.777627</td>\n",
       "      <td>43.330225</td>\n",
       "      <td>34.885630</td>\n",
       "      <td>48.610187</td>\n",
       "      <td>36.579035</td>\n",
       "      <td>37.878092</td>\n",
       "      <td>49.844313</td>\n",
       "      <td>47.862360</td>\n",
       "      <td>52.755177</td>\n",
       "      <td>23.009897</td>\n",
       "    </tr>\n",
       "    <tr>\n",
       "      <th>3</th>\n",
       "      <td>49.992656</td>\n",
       "      <td>36.848468</td>\n",
       "      <td>43.114247</td>\n",
       "      <td>0.000000</td>\n",
       "      <td>45.107982</td>\n",
       "      <td>41.033487</td>\n",
       "      <td>39.722908</td>\n",
       "      <td>55.623540</td>\n",
       "      <td>49.691214</td>\n",
       "      <td>44.887495</td>\n",
       "      <td>...</td>\n",
       "      <td>41.214384</td>\n",
       "      <td>38.468772</td>\n",
       "      <td>47.067160</td>\n",
       "      <td>44.031998</td>\n",
       "      <td>33.652239</td>\n",
       "      <td>43.631306</td>\n",
       "      <td>45.166381</td>\n",
       "      <td>36.472406</td>\n",
       "      <td>37.776852</td>\n",
       "      <td>37.739640</td>\n",
       "    </tr>\n",
       "    <tr>\n",
       "      <th>4</th>\n",
       "      <td>40.530982</td>\n",
       "      <td>32.720869</td>\n",
       "      <td>34.699562</td>\n",
       "      <td>45.107982</td>\n",
       "      <td>0.000003</td>\n",
       "      <td>36.565887</td>\n",
       "      <td>44.972623</td>\n",
       "      <td>34.504387</td>\n",
       "      <td>20.728037</td>\n",
       "      <td>48.652605</td>\n",
       "      <td>...</td>\n",
       "      <td>47.372112</td>\n",
       "      <td>53.929069</td>\n",
       "      <td>17.288180</td>\n",
       "      <td>36.797762</td>\n",
       "      <td>49.609557</td>\n",
       "      <td>44.756784</td>\n",
       "      <td>44.698328</td>\n",
       "      <td>45.808059</td>\n",
       "      <td>44.446919</td>\n",
       "      <td>39.771272</td>\n",
       "    </tr>\n",
       "  </tbody>\n",
       "</table>\n",
       "<p>5 rows × 896 columns</p>\n",
       "</div>"
      ],
      "text/plain": [
       "         0          1          2          3          4          5    \\\n",
       "0   0.000001  51.293618  46.483580  49.992656  40.530982  48.763804   \n",
       "1  51.293618   0.000000  26.156809  36.848468  32.720869  37.629532   \n",
       "2  46.483580  26.156809   0.000000  43.114247  34.699562  34.765189   \n",
       "3  49.992656  36.848468  43.114247   0.000000  45.107982  41.033487   \n",
       "4  40.530982  32.720869  34.699562  45.107982   0.000003  36.565887   \n",
       "\n",
       "         6          7          8          9    ...        886        887  \\\n",
       "0  49.759032  34.465672  38.358805  30.467454  ...  45.998287  39.732263   \n",
       "1  38.187191  50.043217  37.792181  57.616499  ...  46.037268  49.017386   \n",
       "2  52.896076  45.077507  39.331217  54.024838  ...  49.777627  43.330225   \n",
       "3  39.722908  55.623540  49.691214  44.887495  ...  41.214384  38.468772   \n",
       "4  44.972623  34.504387  20.728037  48.652605  ...  47.372112  53.929069   \n",
       "\n",
       "         888        889        890        891        892        893  \\\n",
       "0  41.254377  37.264637  52.614936  34.607660  40.361897  43.576364   \n",
       "1  32.326936  49.033400  34.098151  44.408497  54.640323  41.232393   \n",
       "2  34.885630  48.610187  36.579035  37.878092  49.844313  47.862360   \n",
       "3  47.067160  44.031998  33.652239  43.631306  45.166381  36.472406   \n",
       "4  17.288180  36.797762  49.609557  44.756784  44.698328  45.808059   \n",
       "\n",
       "         894        895  \n",
       "0  47.166592  52.280427  \n",
       "1  43.262311  24.420212  \n",
       "2  52.755177  23.009897  \n",
       "3  37.776852  37.739640  \n",
       "4  44.446919  39.771272  \n",
       "\n",
       "[5 rows x 896 columns]"
      ]
     },
     "execution_count": 35,
     "metadata": {},
     "output_type": "execute_result"
    }
   ],
   "source": [
    "Dist_train = pd.DataFrame(pairwise_distances(C_train,metric='euclidean'),columns=C_train.index,index=C_train.index)\n",
    "print('Data shape: ',Dist_train.shape)\n",
    "Dist_train.head()"
   ]
  },
  {
   "cell_type": "code",
   "execution_count": 36,
   "id": "db8f5c1a",
   "metadata": {},
   "outputs": [
    {
     "name": "stdout",
     "output_type": "stream",
     "text": [
      "Data shape:  (3582, 896)\n"
     ]
    },
    {
     "data": {
      "text/html": [
       "<div>\n",
       "<style scoped>\n",
       "    .dataframe tbody tr th:only-of-type {\n",
       "        vertical-align: middle;\n",
       "    }\n",
       "\n",
       "    .dataframe tbody tr th {\n",
       "        vertical-align: top;\n",
       "    }\n",
       "\n",
       "    .dataframe thead th {\n",
       "        text-align: right;\n",
       "    }\n",
       "</style>\n",
       "<table border=\"1\" class=\"dataframe\">\n",
       "  <thead>\n",
       "    <tr style=\"text-align: right;\">\n",
       "      <th></th>\n",
       "      <th>0</th>\n",
       "      <th>1</th>\n",
       "      <th>2</th>\n",
       "      <th>3</th>\n",
       "      <th>4</th>\n",
       "      <th>5</th>\n",
       "      <th>6</th>\n",
       "      <th>7</th>\n",
       "      <th>8</th>\n",
       "      <th>9</th>\n",
       "      <th>...</th>\n",
       "      <th>886</th>\n",
       "      <th>887</th>\n",
       "      <th>888</th>\n",
       "      <th>889</th>\n",
       "      <th>890</th>\n",
       "      <th>891</th>\n",
       "      <th>892</th>\n",
       "      <th>893</th>\n",
       "      <th>894</th>\n",
       "      <th>895</th>\n",
       "    </tr>\n",
       "  </thead>\n",
       "  <tbody>\n",
       "    <tr>\n",
       "      <th>0</th>\n",
       "      <td>51.675305</td>\n",
       "      <td>13.263797</td>\n",
       "      <td>28.324707</td>\n",
       "      <td>39.543795</td>\n",
       "      <td>34.292119</td>\n",
       "      <td>38.216717</td>\n",
       "      <td>36.039129</td>\n",
       "      <td>48.760841</td>\n",
       "      <td>37.573776</td>\n",
       "      <td>59.441594</td>\n",
       "      <td>...</td>\n",
       "      <td>44.369432</td>\n",
       "      <td>49.496425</td>\n",
       "      <td>32.779842</td>\n",
       "      <td>51.234177</td>\n",
       "      <td>35.242921</td>\n",
       "      <td>43.644030</td>\n",
       "      <td>51.723138</td>\n",
       "      <td>41.003869</td>\n",
       "      <td>41.870182</td>\n",
       "      <td>28.356419</td>\n",
       "    </tr>\n",
       "    <tr>\n",
       "      <th>1</th>\n",
       "      <td>34.937340</td>\n",
       "      <td>54.333667</td>\n",
       "      <td>54.691486</td>\n",
       "      <td>46.733851</td>\n",
       "      <td>45.809310</td>\n",
       "      <td>46.541085</td>\n",
       "      <td>41.580827</td>\n",
       "      <td>37.519961</td>\n",
       "      <td>46.178748</td>\n",
       "      <td>31.862629</td>\n",
       "      <td>...</td>\n",
       "      <td>37.759545</td>\n",
       "      <td>42.296461</td>\n",
       "      <td>44.206912</td>\n",
       "      <td>38.793428</td>\n",
       "      <td>50.744631</td>\n",
       "      <td>42.981350</td>\n",
       "      <td>38.354029</td>\n",
       "      <td>44.868284</td>\n",
       "      <td>37.522847</td>\n",
       "      <td>55.650015</td>\n",
       "    </tr>\n",
       "    <tr>\n",
       "      <th>2</th>\n",
       "      <td>42.164000</td>\n",
       "      <td>25.576426</td>\n",
       "      <td>35.866337</td>\n",
       "      <td>42.167983</td>\n",
       "      <td>28.762888</td>\n",
       "      <td>37.985773</td>\n",
       "      <td>41.082112</td>\n",
       "      <td>44.307619</td>\n",
       "      <td>31.100315</td>\n",
       "      <td>50.165605</td>\n",
       "      <td>...</td>\n",
       "      <td>46.952762</td>\n",
       "      <td>50.509239</td>\n",
       "      <td>30.284144</td>\n",
       "      <td>39.447117</td>\n",
       "      <td>45.672632</td>\n",
       "      <td>47.542085</td>\n",
       "      <td>50.373063</td>\n",
       "      <td>40.436117</td>\n",
       "      <td>43.686643</td>\n",
       "      <td>35.517796</td>\n",
       "    </tr>\n",
       "    <tr>\n",
       "      <th>3</th>\n",
       "      <td>41.833812</td>\n",
       "      <td>34.269911</td>\n",
       "      <td>41.871457</td>\n",
       "      <td>44.824296</td>\n",
       "      <td>25.508375</td>\n",
       "      <td>43.308444</td>\n",
       "      <td>38.761995</td>\n",
       "      <td>38.392620</td>\n",
       "      <td>20.189033</td>\n",
       "      <td>50.358768</td>\n",
       "      <td>...</td>\n",
       "      <td>45.176411</td>\n",
       "      <td>53.912401</td>\n",
       "      <td>28.356367</td>\n",
       "      <td>42.598066</td>\n",
       "      <td>48.736481</td>\n",
       "      <td>49.678075</td>\n",
       "      <td>44.158698</td>\n",
       "      <td>42.846879</td>\n",
       "      <td>42.655219</td>\n",
       "      <td>41.601013</td>\n",
       "    </tr>\n",
       "    <tr>\n",
       "      <th>4</th>\n",
       "      <td>49.648664</td>\n",
       "      <td>14.391961</td>\n",
       "      <td>16.509483</td>\n",
       "      <td>41.318588</td>\n",
       "      <td>32.753029</td>\n",
       "      <td>37.123207</td>\n",
       "      <td>44.963612</td>\n",
       "      <td>47.172622</td>\n",
       "      <td>37.879103</td>\n",
       "      <td>57.181936</td>\n",
       "      <td>...</td>\n",
       "      <td>47.816826</td>\n",
       "      <td>46.926271</td>\n",
       "      <td>32.789785</td>\n",
       "      <td>49.983623</td>\n",
       "      <td>34.784586</td>\n",
       "      <td>40.951154</td>\n",
       "      <td>53.623249</td>\n",
       "      <td>46.640863</td>\n",
       "      <td>47.720880</td>\n",
       "      <td>22.216240</td>\n",
       "    </tr>\n",
       "  </tbody>\n",
       "</table>\n",
       "<p>5 rows × 896 columns</p>\n",
       "</div>"
      ],
      "text/plain": [
       "         0          1          2          3          4          5    \\\n",
       "0  51.675305  13.263797  28.324707  39.543795  34.292119  38.216717   \n",
       "1  34.937340  54.333667  54.691486  46.733851  45.809310  46.541085   \n",
       "2  42.164000  25.576426  35.866337  42.167983  28.762888  37.985773   \n",
       "3  41.833812  34.269911  41.871457  44.824296  25.508375  43.308444   \n",
       "4  49.648664  14.391961  16.509483  41.318588  32.753029  37.123207   \n",
       "\n",
       "         6          7          8          9    ...        886        887  \\\n",
       "0  36.039129  48.760841  37.573776  59.441594  ...  44.369432  49.496425   \n",
       "1  41.580827  37.519961  46.178748  31.862629  ...  37.759545  42.296461   \n",
       "2  41.082112  44.307619  31.100315  50.165605  ...  46.952762  50.509239   \n",
       "3  38.761995  38.392620  20.189033  50.358768  ...  45.176411  53.912401   \n",
       "4  44.963612  47.172622  37.879103  57.181936  ...  47.816826  46.926271   \n",
       "\n",
       "         888        889        890        891        892        893  \\\n",
       "0  32.779842  51.234177  35.242921  43.644030  51.723138  41.003869   \n",
       "1  44.206912  38.793428  50.744631  42.981350  38.354029  44.868284   \n",
       "2  30.284144  39.447117  45.672632  47.542085  50.373063  40.436117   \n",
       "3  28.356367  42.598066  48.736481  49.678075  44.158698  42.846879   \n",
       "4  32.789785  49.983623  34.784586  40.951154  53.623249  46.640863   \n",
       "\n",
       "         894        895  \n",
       "0  41.870182  28.356419  \n",
       "1  37.522847  55.650015  \n",
       "2  43.686643  35.517796  \n",
       "3  42.655219  41.601013  \n",
       "4  47.720880  22.216240  \n",
       "\n",
       "[5 rows x 896 columns]"
      ]
     },
     "execution_count": 36,
     "metadata": {},
     "output_type": "execute_result"
    }
   ],
   "source": [
    "Dist_test = pd.DataFrame(pairwise_distances(C_test,C_train,metric='euclidean'),columns=C_train.index,index=C_test.index)\n",
    "print('Data shape: ',Dist_test.shape)\n",
    "Dist_test.head()"
   ]
  },
  {
   "cell_type": "markdown",
   "id": "a61c2fd4",
   "metadata": {},
   "source": [
    "* Regularized logistic regression with lasso penalties\n",
    "* Find ideal lambda based on binomial deviance using 10-fold CV\n",
    "* Tried values: [0.1,0.5,1,2,5,10,20]"
   ]
  },
  {
   "cell_type": "code",
   "execution_count": 37,
   "id": "9dcadd1a",
   "metadata": {},
   "outputs": [
    {
     "name": "stderr",
     "output_type": "stream",
     "text": [
      "c:\\users\\cidem\\appdata\\local\\programs\\python\\python39\\lib\\site-packages\\sklearn\\utils\\validation.py:63: DataConversionWarning: A column-vector y was passed when a 1d array was expected. Please change the shape of y to (n_samples, ), for example using ravel().\n",
      "  return f(*args, **kwargs)\n"
     ]
    },
    {
     "data": {
      "text/plain": [
       "LogisticRegressionCV(Cs=[0.1, 0.5, 1, 2, 5, 10, 20], cv=10, penalty='l1',\n",
       "                     random_state=42, scoring='neg_log_loss',\n",
       "                     solver='liblinear')"
      ]
     },
     "execution_count": 37,
     "metadata": {},
     "output_type": "execute_result"
    }
   ],
   "source": [
    "distance_lr_cv = LogisticRegressionCV(Cs=[0.1,0.5,1,2,5,10,20],cv=10,penalty='l1',scoring='neg_log_loss', solver='liblinear',random_state=42)\n",
    "distance_lr_cv.fit(Dist_train,L_train)"
   ]
  },
  {
   "cell_type": "code",
   "execution_count": 38,
   "id": "5fb1e29b",
   "metadata": {},
   "outputs": [
    {
     "data": {
      "text/plain": [
       "array([5.])"
      ]
     },
     "execution_count": 38,
     "metadata": {},
     "output_type": "execute_result"
    }
   ],
   "source": [
    "distance_lr_cv.C_"
   ]
  },
  {
   "cell_type": "markdown",
   "id": "6d97c8d3",
   "metadata": {},
   "source": [
    "* Best reqularization parameter is 5 this time"
   ]
  },
  {
   "cell_type": "markdown",
   "id": "db68af4e",
   "metadata": {},
   "source": [
    "* Predict the class for test data"
   ]
  },
  {
   "cell_type": "code",
   "execution_count": 39,
   "id": "658e584e",
   "metadata": {},
   "outputs": [
    {
     "name": "stdout",
     "output_type": "stream",
     "text": [
      "Predicted Class 3 counts: \n",
      "0    3123\n",
      "1     459\n",
      "Name: class_pred, dtype: int64\n",
      "Predicted Class 3 percents: \n",
      "0    87.18593\n",
      "1    12.81407\n",
      "Name: class_pred, dtype: float64\n"
     ]
    }
   ],
   "source": [
    "#Test predictions dataframe\n",
    "test_pred_distance_lr_cv = pd.DataFrame(distance_lr_cv.predict_proba(Dist_test)[:,1],columns=['class_pred_proba'],index=Dist_test.index)\n",
    "#Join with true labels\n",
    "test_pred_distance_lr_cv = pd.merge(test_pred_distance_lr_cv,L_test,how='left',left_index=True,right_index=True)\n",
    "#Convert predicted probabilities to labels using positive ratio of train labels\n",
    "pos_ratio_train = L_train[L_train['class']==1].sum()[0]/L_train.shape[0]\n",
    "test_pred_distance_lr_cv['class_pred'] = test_pred_distance_lr_cv['class_pred_proba'].apply(lambda x: 1 if x>=pos_ratio_train else 0)\n",
    "\n",
    "print('Predicted Class 3 counts: ')\n",
    "print(test_pred_distance_lr_cv['class_pred'].value_counts().sort_index())\n",
    "print('Predicted Class 3 percents: ')\n",
    "print(test_pred_distance_lr_cv['class_pred'].value_counts().sort_index()*100/test_pred_distance_lr_cv.shape[0])"
   ]
  },
  {
   "cell_type": "code",
   "execution_count": 40,
   "id": "5abd86c9",
   "metadata": {},
   "outputs": [
    {
     "name": "stdout",
     "output_type": "stream",
     "text": [
      "Test accuracy of logistic regression:  0.9852037967615858\n"
     ]
    },
    {
     "data": {
      "text/plain": [
       "<AxesSubplot:>"
      ]
     },
     "execution_count": 40,
     "metadata": {},
     "output_type": "execute_result"
    },
    {
     "data": {
      "image/png": "[encoded data removed]",
      "text/plain": [
       "<Figure size 1008x432 with 2 Axes>"
      ]
     },
     "metadata": {
      "needs_background": "light"
     },
     "output_type": "display_data"
    }
   ],
   "source": [
    "#accuracy calculation\n",
    "print('Test accuracy of logistic regression: ',accuracy_score(test_pred_distance_lr_cv['class'],test_pred_distance_lr_cv['class_pred']))\n",
    "\n",
    "#confusion matrix calculation\n",
    "conf_matrix_distance_lr_cv = pd.DataFrame(confusion_matrix(test_pred_distance_lr_cv['class'],test_pred_distance_lr_cv['class_pred']))\n",
    "\n",
    "plt.figure(figsize=(14,6))\n",
    "plt.subplot(1,2,1)\n",
    "sns.heatmap(conf_matrix_distance_lr_cv,annot=True,fmt='g')"
   ]
  },
  {
   "cell_type": "markdown",
   "id": "fea473de",
   "metadata": {},
   "source": [
    "* Accuracy is improved significantly comparing to part b.\n",
    "* Also, number of false positives decreases significantly. "
   ]
  },
  {
   "cell_type": "code",
   "execution_count": 41,
   "id": "634ce75a",
   "metadata": {},
   "outputs": [
    {
     "name": "stdout",
     "output_type": "stream",
     "text": [
      "Number of features:  896\n",
      "Number of features with nonzero coefficient:  762\n"
     ]
    }
   ],
   "source": [
    "distance_coef_df = pd.DataFrame(distance_lr_cv.coef_.T,columns=['lr_coefficients'],index=Dist_train.columns)\n",
    "distance_nonzero_coef_df = distance_coef_df[distance_coef_df['lr_coefficients']!=0]\n",
    "print('Number of features: ',distance_coef_df.shape[0])\n",
    "print('Number of features with nonzero coefficient: ',distance_nonzero_coef_df.shape[0])"
   ]
  },
  {
   "cell_type": "markdown",
   "id": "706ccf76",
   "metadata": {},
   "source": [
    "* Applying Lasso penalties does not reduce number of features as it does in part b. It selects 762 features out of 896."
   ]
  },
  {
   "cell_type": "markdown",
   "id": "9f6c5ba2",
   "metadata": {},
   "source": [
    "* Distribution of coefficients is as follows:"
   ]
  },
  {
   "cell_type": "code",
   "execution_count": 42,
   "id": "4121ca0b",
   "metadata": {},
   "outputs": [
    {
     "data": {
      "text/html": [
       "<div>\n",
       "<style scoped>\n",
       "    .dataframe tbody tr th:only-of-type {\n",
       "        vertical-align: middle;\n",
       "    }\n",
       "\n",
       "    .dataframe tbody tr th {\n",
       "        vertical-align: top;\n",
       "    }\n",
       "\n",
       "    .dataframe thead th {\n",
       "        text-align: right;\n",
       "    }\n",
       "</style>\n",
       "<table border=\"1\" class=\"dataframe\">\n",
       "  <thead>\n",
       "    <tr style=\"text-align: right;\">\n",
       "      <th></th>\n",
       "      <th>lr_coefficients</th>\n",
       "    </tr>\n",
       "  </thead>\n",
       "  <tbody>\n",
       "    <tr>\n",
       "      <th>count</th>\n",
       "      <td>762.000000</td>\n",
       "    </tr>\n",
       "    <tr>\n",
       "      <th>mean</th>\n",
       "      <td>-0.000289</td>\n",
       "    </tr>\n",
       "    <tr>\n",
       "      <th>std</th>\n",
       "      <td>0.026665</td>\n",
       "    </tr>\n",
       "    <tr>\n",
       "      <th>min</th>\n",
       "      <td>-0.159959</td>\n",
       "    </tr>\n",
       "    <tr>\n",
       "      <th>25%</th>\n",
       "      <td>-0.007041</td>\n",
       "    </tr>\n",
       "    <tr>\n",
       "      <th>50%</th>\n",
       "      <td>0.000647</td>\n",
       "    </tr>\n",
       "    <tr>\n",
       "      <th>75%</th>\n",
       "      <td>0.010920</td>\n",
       "    </tr>\n",
       "    <tr>\n",
       "      <th>max</th>\n",
       "      <td>0.095921</td>\n",
       "    </tr>\n",
       "  </tbody>\n",
       "</table>\n",
       "</div>"
      ],
      "text/plain": [
       "       lr_coefficients\n",
       "count       762.000000\n",
       "mean         -0.000289\n",
       "std           0.026665\n",
       "min          -0.159959\n",
       "25%          -0.007041\n",
       "50%           0.000647\n",
       "75%           0.010920\n",
       "max           0.095921"
      ]
     },
     "execution_count": 42,
     "metadata": {},
     "output_type": "execute_result"
    }
   ],
   "source": [
    "distance_nonzero_coef_df.describe()"
   ]
  },
  {
   "cell_type": "code",
   "execution_count": 43,
   "id": "3f817eae",
   "metadata": {},
   "outputs": [
    {
     "data": {
      "text/html": [
       "<div>\n",
       "<style scoped>\n",
       "    .dataframe tbody tr th:only-of-type {\n",
       "        vertical-align: middle;\n",
       "    }\n",
       "\n",
       "    .dataframe tbody tr th {\n",
       "        vertical-align: top;\n",
       "    }\n",
       "\n",
       "    .dataframe thead th {\n",
       "        text-align: right;\n",
       "    }\n",
       "</style>\n",
       "<table border=\"1\" class=\"dataframe\">\n",
       "  <thead>\n",
       "    <tr style=\"text-align: right;\">\n",
       "      <th></th>\n",
       "      <th>lr_coefficients</th>\n",
       "    </tr>\n",
       "  </thead>\n",
       "  <tbody>\n",
       "    <tr>\n",
       "      <th>98</th>\n",
       "      <td>-0.159959</td>\n",
       "    </tr>\n",
       "    <tr>\n",
       "      <th>731</th>\n",
       "      <td>-0.147665</td>\n",
       "    </tr>\n",
       "    <tr>\n",
       "      <th>188</th>\n",
       "      <td>-0.144815</td>\n",
       "    </tr>\n",
       "    <tr>\n",
       "      <th>3</th>\n",
       "      <td>-0.137763</td>\n",
       "    </tr>\n",
       "    <tr>\n",
       "      <th>777</th>\n",
       "      <td>-0.124007</td>\n",
       "    </tr>\n",
       "    <tr>\n",
       "      <th>...</th>\n",
       "      <td>...</td>\n",
       "    </tr>\n",
       "    <tr>\n",
       "      <th>283</th>\n",
       "      <td>0.077856</td>\n",
       "    </tr>\n",
       "    <tr>\n",
       "      <th>122</th>\n",
       "      <td>0.082322</td>\n",
       "    </tr>\n",
       "    <tr>\n",
       "      <th>123</th>\n",
       "      <td>0.090825</td>\n",
       "    </tr>\n",
       "    <tr>\n",
       "      <th>208</th>\n",
       "      <td>0.094030</td>\n",
       "    </tr>\n",
       "    <tr>\n",
       "      <th>890</th>\n",
       "      <td>0.095921</td>\n",
       "    </tr>\n",
       "  </tbody>\n",
       "</table>\n",
       "<p>762 rows × 1 columns</p>\n",
       "</div>"
      ],
      "text/plain": [
       "     lr_coefficients\n",
       "98         -0.159959\n",
       "731        -0.147665\n",
       "188        -0.144815\n",
       "3          -0.137763\n",
       "777        -0.124007\n",
       "..               ...\n",
       "283         0.077856\n",
       "122         0.082322\n",
       "123         0.090825\n",
       "208         0.094030\n",
       "890         0.095921\n",
       "\n",
       "[762 rows x 1 columns]"
      ]
     },
     "execution_count": 43,
     "metadata": {},
     "output_type": "execute_result"
    }
   ],
   "source": [
    "#sorted by coefficient\n",
    "distance_nonzero_coef_df.sort_values(by='lr_coefficients')"
   ]
  },
  {
   "cell_type": "code",
   "execution_count": 44,
   "id": "0a118bf3",
   "metadata": {},
   "outputs": [
    {
     "data": {
      "text/html": [
       "<div>\n",
       "<style scoped>\n",
       "    .dataframe tbody tr th:only-of-type {\n",
       "        vertical-align: middle;\n",
       "    }\n",
       "\n",
       "    .dataframe tbody tr th {\n",
       "        vertical-align: top;\n",
       "    }\n",
       "\n",
       "    .dataframe thead th {\n",
       "        text-align: right;\n",
       "    }\n",
       "</style>\n",
       "<table border=\"1\" class=\"dataframe\">\n",
       "  <thead>\n",
       "    <tr style=\"text-align: right;\">\n",
       "      <th></th>\n",
       "      <th>lr_coefficients</th>\n",
       "      <th>class</th>\n",
       "    </tr>\n",
       "  </thead>\n",
       "  <tbody>\n",
       "    <tr>\n",
       "      <th>98</th>\n",
       "      <td>-0.159959</td>\n",
       "      <td>1</td>\n",
       "    </tr>\n",
       "    <tr>\n",
       "      <th>731</th>\n",
       "      <td>-0.147665</td>\n",
       "      <td>1</td>\n",
       "    </tr>\n",
       "    <tr>\n",
       "      <th>188</th>\n",
       "      <td>-0.144815</td>\n",
       "      <td>1</td>\n",
       "    </tr>\n",
       "    <tr>\n",
       "      <th>3</th>\n",
       "      <td>-0.137763</td>\n",
       "      <td>1</td>\n",
       "    </tr>\n",
       "    <tr>\n",
       "      <th>777</th>\n",
       "      <td>-0.124007</td>\n",
       "      <td>1</td>\n",
       "    </tr>\n",
       "    <tr>\n",
       "      <th>...</th>\n",
       "      <td>...</td>\n",
       "      <td>...</td>\n",
       "    </tr>\n",
       "    <tr>\n",
       "      <th>283</th>\n",
       "      <td>0.077856</td>\n",
       "      <td>0</td>\n",
       "    </tr>\n",
       "    <tr>\n",
       "      <th>122</th>\n",
       "      <td>0.082322</td>\n",
       "      <td>0</td>\n",
       "    </tr>\n",
       "    <tr>\n",
       "      <th>123</th>\n",
       "      <td>0.090825</td>\n",
       "      <td>0</td>\n",
       "    </tr>\n",
       "    <tr>\n",
       "      <th>208</th>\n",
       "      <td>0.094030</td>\n",
       "      <td>0</td>\n",
       "    </tr>\n",
       "    <tr>\n",
       "      <th>890</th>\n",
       "      <td>0.095921</td>\n",
       "      <td>0</td>\n",
       "    </tr>\n",
       "  </tbody>\n",
       "</table>\n",
       "<p>762 rows × 2 columns</p>\n",
       "</div>"
      ],
      "text/plain": [
       "     lr_coefficients  class\n",
       "98         -0.159959      1\n",
       "731        -0.147665      1\n",
       "188        -0.144815      1\n",
       "3          -0.137763      1\n",
       "777        -0.124007      1\n",
       "..               ...    ...\n",
       "283         0.077856      0\n",
       "122         0.082322      0\n",
       "123         0.090825      0\n",
       "208         0.094030      0\n",
       "890         0.095921      0\n",
       "\n",
       "[762 rows x 2 columns]"
      ]
     },
     "execution_count": 44,
     "metadata": {},
     "output_type": "execute_result"
    }
   ],
   "source": [
    "#joined with train labels and sorted by coefficient\n",
    "distance_nonzero_coef_df = pd.merge(distance_nonzero_coef_df,L_train,how='left',left_index=True, right_index=True).sort_values(by='lr_coefficients')\n",
    "distance_nonzero_coef_df"
   ]
  },
  {
   "cell_type": "markdown",
   "id": "b9f34048",
   "metadata": {},
   "source": [
    "* Distribution of coefficients grouped by train labels is as follows:"
   ]
  },
  {
   "cell_type": "code",
   "execution_count": 45,
   "id": "14ae8459",
   "metadata": {},
   "outputs": [
    {
     "data": {
      "text/html": [
       "<div>\n",
       "<style scoped>\n",
       "    .dataframe tbody tr th:only-of-type {\n",
       "        vertical-align: middle;\n",
       "    }\n",
       "\n",
       "    .dataframe tbody tr th {\n",
       "        vertical-align: top;\n",
       "    }\n",
       "\n",
       "    .dataframe thead tr th {\n",
       "        text-align: left;\n",
       "    }\n",
       "\n",
       "    .dataframe thead tr:last-of-type th {\n",
       "        text-align: right;\n",
       "    }\n",
       "</style>\n",
       "<table border=\"1\" class=\"dataframe\">\n",
       "  <thead>\n",
       "    <tr>\n",
       "      <th></th>\n",
       "      <th colspan=\"8\" halign=\"left\">lr_coefficients</th>\n",
       "    </tr>\n",
       "    <tr>\n",
       "      <th></th>\n",
       "      <th>count</th>\n",
       "      <th>mean</th>\n",
       "      <th>std</th>\n",
       "      <th>min</th>\n",
       "      <th>25%</th>\n",
       "      <th>50%</th>\n",
       "      <th>75%</th>\n",
       "      <th>max</th>\n",
       "    </tr>\n",
       "    <tr>\n",
       "      <th>class</th>\n",
       "      <th></th>\n",
       "      <th></th>\n",
       "      <th></th>\n",
       "      <th></th>\n",
       "      <th></th>\n",
       "      <th></th>\n",
       "      <th></th>\n",
       "      <th></th>\n",
       "    </tr>\n",
       "  </thead>\n",
       "  <tbody>\n",
       "    <tr>\n",
       "      <th>0</th>\n",
       "      <td>656.0</td>\n",
       "      <td>0.006549</td>\n",
       "      <td>0.017107</td>\n",
       "      <td>-0.035833</td>\n",
       "      <td>-0.001162</td>\n",
       "      <td>0.003518</td>\n",
       "      <td>0.012171</td>\n",
       "      <td>0.095921</td>\n",
       "    </tr>\n",
       "    <tr>\n",
       "      <th>1</th>\n",
       "      <td>106.0</td>\n",
       "      <td>-0.042605</td>\n",
       "      <td>0.035037</td>\n",
       "      <td>-0.159959</td>\n",
       "      <td>-0.054451</td>\n",
       "      <td>-0.032117</td>\n",
       "      <td>-0.019053</td>\n",
       "      <td>0.004304</td>\n",
       "    </tr>\n",
       "  </tbody>\n",
       "</table>\n",
       "</div>"
      ],
      "text/plain": [
       "      lr_coefficients                                                    \\\n",
       "                count      mean       std       min       25%       50%   \n",
       "class                                                                     \n",
       "0               656.0  0.006549  0.017107 -0.035833 -0.001162  0.003518   \n",
       "1               106.0 -0.042605  0.035037 -0.159959 -0.054451 -0.032117   \n",
       "\n",
       "                           \n",
       "            75%       max  \n",
       "class                      \n",
       "0      0.012171  0.095921  \n",
       "1     -0.019053  0.004304  "
      ]
     },
     "execution_count": 45,
     "metadata": {},
     "output_type": "execute_result"
    }
   ],
   "source": [
    "distance_nonzero_coef_df.groupby('class').describe()"
   ]
  },
  {
   "cell_type": "markdown",
   "id": "2e2adb16",
   "metadata": {},
   "source": [
    "* Here features indicates distance from a train sample.\n",
    "* We can see that if the corresponding train sample is labeled as 1 then the coefficient is negative mostly and the reverse is true for 0-labeled samples.\n",
    "* It makes sense because distance between a test and a train sample is inversely proportional to the probability of having similar labels of those samples."
   ]
  },
  {
   "cell_type": "markdown",
   "id": "19182c83",
   "metadata": {},
   "source": [
    "#### Part d"
   ]
  },
  {
   "cell_type": "markdown",
   "id": "a2fb1070",
   "metadata": {},
   "source": [
    "* First in Task 1, I use KNN with two different distance measures: Euclidean and Manhattan.\n",
    "    * Test accuracy using Euclidean distanced KNN over all labels : 0.94\n",
    "    * Test accuracy using Manhattan distanced KNN over all labels : 0.95\n",
    "    \n",
    "    Using Manhattan distance seems to work better on this dataset.\n",
    "    \n",
    "* Now I will measure accuracies of those two methods over Class 3 to be able to compare their results with the ones in Task 2."
   ]
  },
  {
   "cell_type": "code",
   "execution_count": 46,
   "id": "49040e5a",
   "metadata": {},
   "outputs": [
    {
     "name": "stdout",
     "output_type": "stream",
     "text": [
      "Test accuracy of KNN (Euclidean) over Class3 labels:  0.9846454494695701\n"
     ]
    },
    {
     "data": {
      "text/plain": [
       "<AxesSubplot:>"
      ]
     },
     "execution_count": 46,
     "metadata": {},
     "output_type": "execute_result"
    },
    {
     "data": {
      "image/png": "[encoded data removed]",
      "text/plain": [
       "<Figure size 1008x432 with 2 Axes>"
      ]
     },
     "metadata": {
      "needs_background": "light"
     },
     "output_type": "display_data"
    }
   ],
   "source": [
    "knn_euc_test_labels_c3 = knn_euc_test_labels.copy()\n",
    "knn_euc_test_labels_c3['class_pred']=knn_euc_test_labels_c3['class_pred'].apply(lambda x: 1 if x==3 else 0)\n",
    "knn_euc_test_labels_c3['class']=knn_euc_test_labels_c3['class'].apply(lambda x: 1 if x==3 else 0)\n",
    "print('Test accuracy of KNN (Euclidean) over Class3 labels: ',accuracy_score(knn_euc_test_labels_c3['class'],knn_euc_test_labels_c3['class_pred']))\n",
    "\n",
    "#confusion matrix calculation\n",
    "conf_knn_euc_test_labels = pd.DataFrame(confusion_matrix(knn_euc_test_labels_c3['class'],knn_euc_test_labels_c3['class_pred']))\n",
    "\n",
    "plt.figure(figsize=(14,6))\n",
    "plt.subplot(1,2,1)\n",
    "sns.heatmap(conf_knn_euc_test_labels,annot=True,fmt='g')"
   ]
  },
  {
   "cell_type": "code",
   "execution_count": 47,
   "id": "7a37d0c2",
   "metadata": {},
   "outputs": [
    {
     "name": "stdout",
     "output_type": "stream",
     "text": [
      "Test accuracy of KNN (Manhattan) over Class3 labels:  0.9865996649916248\n"
     ]
    },
    {
     "data": {
      "text/plain": [
       "<AxesSubplot:>"
      ]
     },
     "execution_count": 47,
     "metadata": {},
     "output_type": "execute_result"
    },
    {
     "data": {
      "image/png": "[encoded data removed]",
      "text/plain": [
       "<Figure size 1008x432 with 2 Axes>"
      ]
     },
     "metadata": {
      "needs_background": "light"
     },
     "output_type": "display_data"
    }
   ],
   "source": [
    "knn_man_test_labels_c3 = knn_man_test_labels.copy()\n",
    "knn_man_test_labels_c3['class_pred']=knn_man_test_labels_c3['class_pred'].apply(lambda x: 1 if x==3 else 0)\n",
    "knn_man_test_labels_c3['class']=knn_man_test_labels_c3['class'].apply(lambda x: 1 if x==3 else 0)\n",
    "print('Test accuracy of KNN (Manhattan) over Class3 labels: ',accuracy_score(knn_man_test_labels_c3['class'],knn_man_test_labels_c3['class_pred']))\n",
    "\n",
    "#confusion matrix calculation\n",
    "conf_knn_man_test_labels = pd.DataFrame(confusion_matrix(knn_man_test_labels_c3['class'],knn_man_test_labels_c3['class_pred']))\n",
    "\n",
    "plt.figure(figsize=(14,6))\n",
    "plt.subplot(1,2,1)\n",
    "sns.heatmap(conf_knn_man_test_labels,annot=True,fmt='g')"
   ]
  },
  {
   "cell_type": "markdown",
   "id": "138363fb",
   "metadata": {},
   "source": [
    "* Test accuracies of alternative methods for prediction of Class 3 labels:\n",
    "    * KNN (Euclidean): 0.9846454494695701\n",
    "    * KNN (Manhattan): 0.9865996649916248\n",
    "    * Logistic Regression: 0.9168062534896706\n",
    "    * Regularized Logistic Regression with Lasso Penalties: 0.9193188163037409\n",
    "    * Regularized Logistic Regression with Lasso Penalties with distance features: 0.9852037967615858\n",
    "    \n",
    "* Best method in terms of test accuracy is KNN with k = 3 and Manhattan distances\n",
    "* Test accuracies of Regularized Logistic Regression with Lasso Penalties with distance features and KNN with k = 3 and Euclidean distances are very closed to the best one\n",
    "* Test accuracies of Logistic Regression and Regularized Logistic Regression with Lasso Penalties are very close to each other but approximately %6.7 less than the best one\n",
    "* It seems that there is a nonlinear relationship between the labels and the inputs because KNN and Regularized LR with distance information perform better than LR and Regularized LR with original features."
   ]
  }
 ],
 "metadata": {
  "kernelspec": {
   "display_name": "Python 3",
   "language": "python",
   "name": "python3"
  },
  "language_info": {
   "codemirror_mode": {
    "name": "ipython",
    "version": 3
   },
   "file_extension": ".py",
   "mimetype": "text/x-python",
   "name": "python",
   "nbconvert_exporter": "python",
   "pygments_lexer": "ipython3",
   "version": "3.9.4"
  }
 },
 "nbformat": 4,
 "nbformat_minor": 5
}
